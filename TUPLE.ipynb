{
 "cells": [
  {
   "cell_type": "code",
   "execution_count": 1,
   "id": "f0f3381c",
   "metadata": {},
   "outputs": [
    {
     "data": {
      "text/plain": [
       "(2, 6, 7, 'ASWANI', [1, 3, 5], (6, 4, 8))"
      ]
     },
     "execution_count": 1,
     "metadata": {},
     "output_type": "execute_result"
    }
   ],
   "source": [
    "A=(2,6,7,'ASWANI',[1,3,5],(6,4,8))\n",
    "A"
   ]
  },
  {
   "cell_type": "code",
   "execution_count": 2,
   "id": "822309cb",
   "metadata": {},
   "outputs": [
    {
     "data": {
      "text/plain": [
       "tuple"
      ]
     },
     "execution_count": 2,
     "metadata": {},
     "output_type": "execute_result"
    }
   ],
   "source": [
    "type(A)"
   ]
  },
  {
   "cell_type": "code",
   "execution_count": 4,
   "id": "1b885b0a",
   "metadata": {},
   "outputs": [
    {
     "data": {
      "text/plain": [
       "'ASWANI'"
      ]
     },
     "execution_count": 4,
     "metadata": {},
     "output_type": "execute_result"
    }
   ],
   "source": [
    "A[3]"
   ]
  },
  {
   "cell_type": "code",
   "execution_count": 5,
   "id": "f7583fac",
   "metadata": {},
   "outputs": [
    {
     "data": {
      "text/plain": [
       "8"
      ]
     },
     "execution_count": 5,
     "metadata": {},
     "output_type": "execute_result"
    }
   ],
   "source": [
    "A[5][2]"
   ]
  },
  {
   "cell_type": "code",
   "execution_count": 7,
   "id": "484998b1",
   "metadata": {},
   "outputs": [
    {
     "data": {
      "text/plain": [
       "(2, 6, 7, 'ASWANI', [1, 56, 5], (6, 4, 8))"
      ]
     },
     "execution_count": 7,
     "metadata": {},
     "output_type": "execute_result"
    }
   ],
   "source": [
    "A[4][1]=56\n",
    "A"
   ]
  },
  {
   "cell_type": "code",
   "execution_count": 8,
   "id": "69a061a7",
   "metadata": {},
   "outputs": [
    {
     "data": {
      "text/plain": [
       "('sabna', (3, 5, 7))"
      ]
     },
     "execution_count": 8,
     "metadata": {},
     "output_type": "execute_result"
    }
   ],
   "source": [
    "B=('sabna',(3,5,7))\n",
    "B"
   ]
  },
  {
   "cell_type": "code",
   "execution_count": 9,
   "id": "4377c2c1",
   "metadata": {},
   "outputs": [
    {
     "data": {
      "text/plain": [
       "(2, 6, 7, 'ASWANI', [1, 56, 5], (6, 4, 8), 'sabna', (3, 5, 7))"
      ]
     },
     "execution_count": 9,
     "metadata": {},
     "output_type": "execute_result"
    }
   ],
   "source": [
    "A+B"
   ]
  },
  {
   "cell_type": "code",
   "execution_count": 10,
   "id": "64cfdd08",
   "metadata": {},
   "outputs": [
    {
     "data": {
      "text/plain": [
       "('sabna', (3, 5, 7), 'sabna', (3, 5, 7), 'sabna', (3, 5, 7))"
      ]
     },
     "execution_count": 10,
     "metadata": {},
     "output_type": "execute_result"
    }
   ],
   "source": [
    "B*3"
   ]
  },
  {
   "cell_type": "code",
   "execution_count": 11,
   "id": "3dc74a42",
   "metadata": {},
   "outputs": [
    {
     "data": {
      "text/plain": [
       "1"
      ]
     },
     "execution_count": 11,
     "metadata": {},
     "output_type": "execute_result"
    }
   ],
   "source": [
    "A.count(2)"
   ]
  },
  {
   "cell_type": "code",
   "execution_count": 12,
   "id": "274cb054",
   "metadata": {},
   "outputs": [
    {
     "data": {
      "text/plain": [
       "3"
      ]
     },
     "execution_count": 12,
     "metadata": {},
     "output_type": "execute_result"
    }
   ],
   "source": [
    "A.index('ASWANI')"
   ]
  },
  {
   "cell_type": "code",
   "execution_count": 13,
   "id": "df057798",
   "metadata": {},
   "outputs": [
    {
     "name": "stdout",
     "output_type": "stream",
     "text": [
      "True\n"
     ]
    }
   ],
   "source": [
    "print(2 in A)"
   ]
  },
  {
   "cell_type": "code",
   "execution_count": 14,
   "id": "35227087",
   "metadata": {},
   "outputs": [
    {
     "name": "stdout",
     "output_type": "stream",
     "text": [
      "False\n"
     ]
    }
   ],
   "source": [
    "print('chaithanya' in B)"
   ]
  },
  {
   "cell_type": "code",
   "execution_count": 15,
   "id": "55214557",
   "metadata": {},
   "outputs": [
    {
     "name": "stdout",
     "output_type": "stream",
     "text": [
      "element in B is sabna\n",
      "element in B is (3, 5, 7)\n"
     ]
    }
   ],
   "source": [
    "for i in B:\n",
    "    print(\"element in B is\",i)"
   ]
  },
  {
   "cell_type": "code",
   "execution_count": 16,
   "id": "69a8bc93",
   "metadata": {},
   "outputs": [],
   "source": [
    "del B"
   ]
  },
  {
   "cell_type": "code",
   "execution_count": 17,
   "id": "fc0f51cf",
   "metadata": {},
   "outputs": [
    {
     "ename": "NameError",
     "evalue": "name 'B' is not defined",
     "output_type": "error",
     "traceback": [
      "\u001b[1;31m---------------------------------------------------------------------------\u001b[0m",
      "\u001b[1;31mNameError\u001b[0m                                 Traceback (most recent call last)",
      "\u001b[1;32m<ipython-input-17-31836aeaab22>\u001b[0m in \u001b[0;36m<module>\u001b[1;34m\u001b[0m\n\u001b[1;32m----> 1\u001b[1;33m \u001b[0mB\u001b[0m\u001b[1;33m\u001b[0m\u001b[1;33m\u001b[0m\u001b[0m\n\u001b[0m",
      "\u001b[1;31mNameError\u001b[0m: name 'B' is not defined"
     ]
    }
   ],
   "source": [
    "B"
   ]
  },
  {
   "cell_type": "code",
   "execution_count": 18,
   "id": "40825e83",
   "metadata": {},
   "outputs": [
    {
     "name": "stdout",
     "output_type": "stream",
     "text": [
      "(1, 4, 6, 8)\n"
     ]
    }
   ],
   "source": [
    "#built in functions\n",
    "#Tuple\n",
    "a=[1,4,6,8]\n",
    "print(tuple(a))"
   ]
  },
  {
   "cell_type": "code",
   "execution_count": 19,
   "id": "3e58de16",
   "metadata": {},
   "outputs": [
    {
     "name": "stdout",
     "output_type": "stream",
     "text": [
      "('a', 's', 'w', 'a', 'n', 'i')\n"
     ]
    }
   ],
   "source": [
    "print(tuple('aswani'))"
   ]
  },
  {
   "cell_type": "code",
   "execution_count": 20,
   "id": "57316cd7",
   "metadata": {},
   "outputs": [
    {
     "name": "stdout",
     "output_type": "stream",
     "text": [
      "True\n"
     ]
    }
   ],
   "source": [
    "#all\n",
    "x=(3,5,87,32)\n",
    "print(all(x))"
   ]
  },
  {
   "cell_type": "code",
   "execution_count": 21,
   "id": "50312063",
   "metadata": {},
   "outputs": [
    {
     "name": "stdout",
     "output_type": "stream",
     "text": [
      "True\n"
     ]
    }
   ],
   "source": [
    "p=()\n",
    "print(all(p))"
   ]
  },
  {
   "cell_type": "code",
   "execution_count": 22,
   "id": "74a193bc",
   "metadata": {},
   "outputs": [
    {
     "name": "stdout",
     "output_type": "stream",
     "text": [
      "False\n"
     ]
    }
   ],
   "source": [
    "y=(6,2,0,1,9)\n",
    "print(all(y))"
   ]
  },
  {
   "cell_type": "code",
   "execution_count": 23,
   "id": "a7c55ff3",
   "metadata": {},
   "outputs": [
    {
     "name": "stdout",
     "output_type": "stream",
     "text": [
      "True\n"
     ]
    }
   ],
   "source": [
    "#any\n",
    "y=(6,2,0,1,9)\n",
    "print(any(y))"
   ]
  },
  {
   "cell_type": "code",
   "execution_count": 24,
   "id": "40c045c4",
   "metadata": {},
   "outputs": [
    {
     "name": "stdout",
     "output_type": "stream",
     "text": [
      "False\n"
     ]
    }
   ],
   "source": [
    "y=()\n",
    "print(any(y))"
   ]
  },
  {
   "cell_type": "code",
   "execution_count": 25,
   "id": "c733756f",
   "metadata": {},
   "outputs": [
    {
     "name": "stdout",
     "output_type": "stream",
     "text": [
      "False\n"
     ]
    }
   ],
   "source": [
    "y=(0,0,0)\n",
    "print(any(y))"
   ]
  },
  {
   "cell_type": "code",
   "execution_count": 26,
   "id": "95385142",
   "metadata": {},
   "outputs": [
    {
     "name": "stdout",
     "output_type": "stream",
     "text": [
      "[(0, 5), (1, 3), (2, 7), (3, [1, 3]), (4, 1)]\n"
     ]
    }
   ],
   "source": [
    "#enumerate\n",
    "a=(5,3,7,[1,3],1)\n",
    "b=enumerate(a)\n",
    "print(list(b))"
   ]
  },
  {
   "cell_type": "code",
   "execution_count": 27,
   "id": "6963e4f6",
   "metadata": {},
   "outputs": [
    {
     "data": {
      "text/plain": [
       "[0, 1, 2, 6, 9]"
      ]
     },
     "execution_count": 27,
     "metadata": {},
     "output_type": "execute_result"
    }
   ],
   "source": [
    "#sorted\n",
    "y=(6,2,0,1,9)\n",
    "b=sorted(y)\n",
    "b"
   ]
  },
  {
   "cell_type": "code",
   "execution_count": 28,
   "id": "5e60fc7e",
   "metadata": {},
   "outputs": [
    {
     "data": {
      "text/plain": [
       "[9, 6, 2, 1, 0]"
      ]
     },
     "execution_count": 28,
     "metadata": {},
     "output_type": "execute_result"
    }
   ],
   "source": [
    "y=(6,2,0,1,9)\n",
    "b=sorted(y,reverse=True)\n",
    "b"
   ]
  },
  {
   "cell_type": "code",
   "execution_count": null,
   "id": "9e2154e8",
   "metadata": {},
   "outputs": [],
   "source": []
  }
 ],
 "metadata": {
  "kernelspec": {
   "display_name": "Python 3",
   "language": "python",
   "name": "python3"
  },
  "language_info": {
   "codemirror_mode": {
    "name": "ipython",
    "version": 3
   },
   "file_extension": ".py",
   "mimetype": "text/x-python",
   "name": "python",
   "nbconvert_exporter": "python",
   "pygments_lexer": "ipython3",
   "version": "3.8.8"
  }
 },
 "nbformat": 4,
 "nbformat_minor": 5
}
