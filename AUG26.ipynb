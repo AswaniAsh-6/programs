{
 "cells": [
  {
   "cell_type": "code",
   "execution_count": 9,
   "id": "22b81a54",
   "metadata": {},
   "outputs": [
    {
     "name": "stdout",
     "output_type": "stream",
     "text": [
      "Name:aswani Age:24\n"
     ]
    }
   ],
   "source": [
    "def fun(name,age):\n",
    "    print(\"Name:\"+name,\"Age:\"+age)\n",
    "a=\"aswani\"\n",
    "b=\"24\"\n",
    "fun(a,b)"
   ]
  },
  {
   "cell_type": "code",
   "execution_count": 3,
   "id": "ae468114",
   "metadata": {},
   "outputs": [
    {
     "name": "stdout",
     "output_type": "stream",
     "text": [
      "(30, -10)\n"
     ]
    }
   ],
   "source": [
    "def calculation(a,b):\n",
    "    return a+b,a-b\n",
    "a=calculation(10,20)\n",
    "print(a)"
   ]
  },
  {
   "cell_type": "code",
   "execution_count": 14,
   "id": "345dd7f2",
   "metadata": {},
   "outputs": [
    {
     "name": "stdout",
     "output_type": "stream",
     "text": [
      "Name:Aswani Salary:9000\n",
      "None\n",
      "Name:Anju Salary:10000\n",
      "None\n"
     ]
    }
   ],
   "source": [
    "def showEmployee(name,salary=\"9000\"):\n",
    "    print(\"Name:\"+name,\"Salary:\"+salary)\n",
    "print(showEmployee(\"Aswani\"))\n",
    "print(showEmployee(\"Anju\",\"10000\"))"
   ]
  },
  {
   "cell_type": "code",
   "execution_count": 6,
   "id": "09a79fc5",
   "metadata": {},
   "outputs": [
    {
     "name": "stdout",
     "output_type": "stream",
     "text": [
      "Largest 60\n"
     ]
    }
   ],
   "source": [
    "def maxim(a,b,c):\n",
    "    if a>b and a>c:\n",
    "        print(\"Largest\",a)\n",
    "    elif b>c:\n",
    "        print(\"Largest\",b)\n",
    "    else:\n",
    "        print(\"Largest\",c)\n",
    "maxim(10,30,60)"
   ]
  }
 ],
 "metadata": {
  "kernelspec": {
   "display_name": "Python 3",
   "language": "python",
   "name": "python3"
  },
  "language_info": {
   "codemirror_mode": {
    "name": "ipython",
    "version": 3
   },
   "file_extension": ".py",
   "mimetype": "text/x-python",
   "name": "python",
   "nbconvert_exporter": "python",
   "pygments_lexer": "ipython3",
   "version": "3.8.8"
  }
 },
 "nbformat": 4,
 "nbformat_minor": 5
}
