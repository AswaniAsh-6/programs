{
 "cells": [
  {
   "cell_type": "code",
   "execution_count": 8,
   "id": "3dee645a",
   "metadata": {},
   "outputs": [
    {
     "name": "stdout",
     "output_type": "stream",
     "text": [
      "Maximum speed: 20\n",
      "Mileage: 10\n"
     ]
    }
   ],
   "source": [
    "class Vehicle:\n",
    "    def __init__(self,max_speed,mileage):\n",
    "        self.max_speed=max_speed\n",
    "        self.mileage=mileage\n",
    "bus=Vehicle(20,10)\n",
    "print(\"Maximum speed:\",bus.max_speed)\n",
    "print(\"Mileage:\",bus.mileage)"
   ]
  },
  {
   "cell_type": "code",
   "execution_count": 11,
   "id": "4b0b668c",
   "metadata": {},
   "outputs": [],
   "source": [
    "class Vehicle:\n",
    "    pass"
   ]
  },
  {
   "cell_type": "code",
   "execution_count": 5,
   "id": "8db77644",
   "metadata": {},
   "outputs": [
    {
     "name": "stdout",
     "output_type": "stream",
     "text": [
      "Bus\n",
      "Move Faster\n",
      "None\n",
      "Move slower\n",
      "None\n",
      "bike\n"
     ]
    }
   ],
   "source": [
    "class Vehicle:\n",
    "    v=\"bike\"\n",
    "    def __init__(self):\n",
    "        print(\"Its a 4 wheeler\")\n",
    "    def fast(self):\n",
    "        print(\"Move Faster\")\n",
    "class Bus(Vehicle):\n",
    "    def __init__(self):\n",
    "        print(\"Bus\")\n",
    "    def slow(self):\n",
    "        print(\"Move slower\")\n",
    "obj=Bus()\n",
    "print(obj.fast())\n",
    "print(obj.slow())\n",
    "print(obj.v)"
   ]
  },
  {
   "cell_type": "code",
   "execution_count": 10,
   "id": "41319671",
   "metadata": {},
   "outputs": [
    {
     "name": "stdout",
     "output_type": "stream",
     "text": [
      "Vehicle: bike\n",
      "Move Faster\n",
      "None\n",
      "bike\n"
     ]
    }
   ],
   "source": [
    "class Vehicle:\n",
    "    v=\"bike\"\n",
    "    def __init__(self):\n",
    "        print(\"Its a 4 wheeler\")\n",
    "    def fast(self):\n",
    "        print(\"Move Faster\")\n",
    "class Bus(Vehicle):\n",
    "    def __init__(self):\n",
    "        print(\"Vehicle:\",self.v)\n",
    "    def slow(self):\n",
    "        print(\"Move slower\")\n",
    "obj=Bus()\n",
    "print(obj.fast())\n",
    "print(obj.v)"
   ]
  },
  {
   "cell_type": "code",
   "execution_count": 20,
   "id": "ecd194cf",
   "metadata": {},
   "outputs": [
    {
     "name": "stdout",
     "output_type": "stream",
     "text": [
      "<class '__main__.Bus'>\n"
     ]
    }
   ],
   "source": [
    "class Vehicle:\n",
    "    def __init__(self, name, mileage):\n",
    "        self.name = name\n",
    "        self.mileage = mileage\n",
    "class Bus(Vehicle):\n",
    "    def move(self):\n",
    "        print(\"Vehicle:\")\n",
    "obj = Bus(\"ABC\", 8)\n",
    "print(type(obj))"
   ]
  },
  {
   "cell_type": "code",
   "execution_count": 27,
   "id": "8a8d9320",
   "metadata": {},
   "outputs": [
    {
     "name": "stdout",
     "output_type": "stream",
     "text": [
      "False\n"
     ]
    }
   ],
   "source": [
    "class Vehicle:\n",
    "    def __init__(self, name, mileage):\n",
    "        self.name = name\n",
    "        self.mileage = mileage\n",
    "class School_Bus(Vehicle):\n",
    "    def move(self):\n",
    "        print(\"Vehicle:\")\n",
    "obj=School_Bus(\"ABC\", 10)\n",
    "print(isinstance(School_Bus,Vehicle))\n"
   ]
  },
  {
   "cell_type": "code",
   "execution_count": 40,
   "id": "2056dbd8",
   "metadata": {},
   "outputs": [
    {
     "name": "stdout",
     "output_type": "stream",
     "text": [
      "Name: Aswani\n",
      "RollNo: 1\n",
      "Age: 24\n",
      "Marks: 99\n"
     ]
    }
   ],
   "source": [
    "class Student:\n",
    "    def __init__(self,name,roll_no):\n",
    "        self.name = name\n",
    "        self.roll_no= roll_no\n",
    "    def display(self):\n",
    "        print(\"Name:\",self.name)\n",
    "        print(\"RollNo:\",self.roll_no)\n",
    "        print(\"Age:\",self.age)\n",
    "        print(\"Marks:\",self.marks)\n",
    "    def setAge(self,age):\n",
    "        self.age=age\n",
    "    def setMarks(self,marks):\n",
    "        self.marks = marks\n",
    "obj=Student(\"Aswani\",1)\n",
    "obj.setAge(24)\n",
    "obj.setMarks(99)\n",
    "obj.display()"
   ]
  },
  {
   "cell_type": "code",
   "execution_count": null,
   "id": "0f3b8c1c",
   "metadata": {},
   "outputs": [],
   "source": []
  }
 ],
 "metadata": {
  "kernelspec": {
   "display_name": "Python 3",
   "language": "python",
   "name": "python3"
  },
  "language_info": {
   "codemirror_mode": {
    "name": "ipython",
    "version": 3
   },
   "file_extension": ".py",
   "mimetype": "text/x-python",
   "name": "python",
   "nbconvert_exporter": "python",
   "pygments_lexer": "ipython3",
   "version": "3.8.8"
  }
 },
 "nbformat": 4,
 "nbformat_minor": 5
}
