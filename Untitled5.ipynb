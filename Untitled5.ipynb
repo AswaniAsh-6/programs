{
 "cells": [
  {
   "cell_type": "code",
   "execution_count": 5,
   "id": "ff5751a6",
   "metadata": {},
   "outputs": [
    {
     "name": "stdout",
     "output_type": "stream",
     "text": [
      "length: 3\n",
      "breadth : 4\n",
      "Area : 12\n"
     ]
    }
   ],
   "source": [
    "a=int(input(\"length: \"))\n",
    "b=int(input(\"breadth : \"))\n",
    "class rectangle():\n",
    "    def __init__(self,breadth,length):\n",
    "        self.breadth=breadth\n",
    "        self.length=length\n",
    "    def area(self):\n",
    "        return self.breadth*self.length\n",
    "obj=rectangle(a,b)\n",
    "print(\"Area :\",obj.area())"
   ]
  },
  {
   "cell_type": "code",
   "execution_count": 7,
   "id": "fc3768d9",
   "metadata": {},
   "outputs": [
    {
     "name": "stdout",
     "output_type": "stream",
     "text": [
      "First value: 6\n",
      "Second value : 4\n",
      "Addition : 10\n",
      "Substraction : 2\n",
      "Multiplication: 24\n",
      "Division: 1.0\n"
     ]
    }
   ],
   "source": [
    "x=int(input(\"First value: \"))\n",
    "y=int(input(\"Second value : \"))\n",
    "class calculator():\n",
    "    def __init__(self,val1,val2):\n",
    "        self.val1=val1\n",
    "        self.val2=val2\n",
    "    def add(self):\n",
    "        return self.val1+self.val2\n",
    "    def sub(self):\n",
    "        return self.val1-self.val2\n",
    "    def mul(self):\n",
    "        return self.val1*self.val2\n",
    "    def div(self):\n",
    "        return self.val1/self.val1\n",
    "ob=calculator(x,y)\n",
    "print(\"Addition :\",ob.add())\n",
    "print(\"Substraction :\",ob.sub())\n",
    "print(\"Multiplication:\",ob.mul())\n",
    "print (\"Division:\",ob.div())"
   ]
  },
  {
   "cell_type": "code",
   "execution_count": 32,
   "id": "3acc1639",
   "metadata": {},
   "outputs": [
    {
     "name": "stdout",
     "output_type": "stream",
     "text": [
      "Enter string: hello\n",
      "None\n",
      "String is: hello\n",
      "None\n"
     ]
    }
   ],
   "source": [
    "class string():\n",
    "    def __init__(self):\n",
    "        self.a=a\n",
    "    def acc(self):\n",
    "        self.a=input(\"Enter string: \")\n",
    "    def pri(self):\n",
    "        print(\"String is:\",self.a)\n",
    "o=string()\n",
    "print(o.acc())\n",
    "print(o.pri())"
   ]
  },
  {
   "cell_type": "code",
   "execution_count": null,
   "id": "d330dded",
   "metadata": {},
   "outputs": [],
   "source": []
  }
 ],
 "metadata": {
  "kernelspec": {
   "display_name": "Python 3",
   "language": "python",
   "name": "python3"
  },
  "language_info": {
   "codemirror_mode": {
    "name": "ipython",
    "version": 3
   },
   "file_extension": ".py",
   "mimetype": "text/x-python",
   "name": "python",
   "nbconvert_exporter": "python",
   "pygments_lexer": "ipython3",
   "version": "3.8.8"
  }
 },
 "nbformat": 4,
 "nbformat_minor": 5
}
