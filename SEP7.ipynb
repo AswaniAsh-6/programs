{
 "cells": [
  {
   "cell_type": "code",
   "execution_count": 30,
   "id": "5840cc4c",
   "metadata": {},
   "outputs": [
    {
     "name": "stdout",
     "output_type": "stream",
     "text": [
      "Elements are: (2, 4, 6, 8, 3)\n",
      "First element is: 2\n",
      "Second element is: 4\n",
      "Third element is: 6\n",
      "Fourth element is: 8\n",
      "Fifth element is: 3\n"
     ]
    }
   ],
   "source": [
    "arr=(2,4,6,8,3)\n",
    "print(\"Elements are:\",arr)\n",
    "print(\"First element is:\",arr[0])\n",
    "print(\"Second element is:\",arr[1])\n",
    "print(\"Third element is:\",arr[2])\n",
    "print(\"Fourth element is:\",arr[3])\n",
    "print(\"Fifth element is:\",arr[4])"
   ]
  },
  {
   "cell_type": "code",
   "execution_count": 22,
   "id": "0ec8bc86",
   "metadata": {},
   "outputs": [
    {
     "name": "stdout",
     "output_type": "stream",
     "text": [
      "[1, 8, 3, 7, 6]\n"
     ]
    }
   ],
   "source": [
    "arr1=[6,7,3,8,1]\n",
    "a=[]\n",
    "for i in range(1,6):\n",
    "    a.append(arr1[-i])\n",
    "print(a)"
   ]
  },
  {
   "cell_type": "code",
   "execution_count": 24,
   "id": "69aa08b0",
   "metadata": {},
   "outputs": [
    {
     "name": "stdout",
     "output_type": "stream",
     "text": [
      "[2, 3, 4, 5, 8]\n"
     ]
    }
   ],
   "source": [
    "arr2=[2,3,4,5]\n",
    "arr2.append(8)\n",
    "print(arr2)"
   ]
  },
  {
   "cell_type": "code",
   "execution_count": 25,
   "id": "acf42cae",
   "metadata": {},
   "outputs": [
    {
     "name": "stdout",
     "output_type": "stream",
     "text": [
      "Length: 8\n"
     ]
    }
   ],
   "source": [
    "arr3=[2,3,5,7,9,4,37,2]\n",
    "print(\"Length:\",len(arr3))"
   ]
  },
  {
   "cell_type": "code",
   "execution_count": 28,
   "id": "85f627d4",
   "metadata": {},
   "outputs": [
    {
     "name": "stdout",
     "output_type": "stream",
     "text": [
      "[1, 5, 9, 3, 6]\n"
     ]
    }
   ],
   "source": [
    "arr4=[1,9,3,6]\n",
    "arr4.insert(1,5)\n",
    "print(arr4)"
   ]
  },
  {
   "cell_type": "code",
   "execution_count": 32,
   "id": "fbdec55d",
   "metadata": {},
   "outputs": [
    {
     "name": "stdout",
     "output_type": "stream",
     "text": [
      "[1, 2, 3, 5, 6]\n"
     ]
    }
   ],
   "source": [
    "arr5=[1,2,3,5,6]\n",
    "l=list(arr5)\n",
    "print(l)"
   ]
  },
  {
   "cell_type": "code",
   "execution_count": 36,
   "id": "44477004",
   "metadata": {},
   "outputs": [
    {
     "name": "stdout",
     "output_type": "stream",
     "text": [
      "[3, 6, 2, 8]\n"
     ]
    }
   ],
   "source": [
    "arr6=[3,6,7,2,8]\n",
    "arr6.remove(7)\n",
    "print(arr6)"
   ]
  },
  {
   "cell_type": "code",
   "execution_count": 41,
   "id": "5066e115",
   "metadata": {},
   "outputs": [
    {
     "name": "stdout",
     "output_type": "stream",
     "text": [
      "2nd position to end [9, 8, 3, 4, 5]\n",
      "1st position to 4 [1, 2, 9, 8]\n",
      "3rd to 6th [8, 3, 4]\n"
     ]
    }
   ],
   "source": [
    "arr7=[1,2,9,8,3,4,5]\n",
    "print(\"2nd position to end\",arr7[2:])\n",
    "print(\"1st position to 4\",arr7[:4])\n",
    "print(\"3rd to 6th\",arr7[3:6])"
   ]
  },
  {
   "cell_type": "code",
   "execution_count": 44,
   "id": "672c1fc6",
   "metadata": {},
   "outputs": [
    {
     "name": "stdout",
     "output_type": "stream",
     "text": [
      "From which position:1\n",
      "[2, 3, 4, 5, 1]\n"
     ]
    }
   ],
   "source": [
    "arr8=[1,2,3,4,5]\n",
    "x=[]\n",
    "n=len(arr8)\n",
    "k=int(input(\"From which position:\"))\n",
    "for i in range(k,n):\n",
    "    x.append(arr8[i])\n",
    "for i in range(0,k):\n",
    "    x.append(arr8[i])\n",
    "print(x)"
   ]
  },
  {
   "cell_type": "code",
   "execution_count": null,
   "id": "a66893c3",
   "metadata": {},
   "outputs": [],
   "source": []
  }
 ],
 "metadata": {
  "kernelspec": {
   "display_name": "Python 3",
   "language": "python",
   "name": "python3"
  },
  "language_info": {
   "codemirror_mode": {
    "name": "ipython",
    "version": 3
   },
   "file_extension": ".py",
   "mimetype": "text/x-python",
   "name": "python",
   "nbconvert_exporter": "python",
   "pygments_lexer": "ipython3",
   "version": "3.8.8"
  }
 },
 "nbformat": 4,
 "nbformat_minor": 5
}
