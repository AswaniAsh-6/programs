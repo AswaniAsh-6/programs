{
 "cells": [
  {
   "cell_type": "code",
   "execution_count": 7,
   "id": "80497ba3",
   "metadata": {},
   "outputs": [
    {
     "name": "stdout",
     "output_type": "stream",
     "text": [
      "Number of matching characters : 1\n",
      "Matching character is: {'h'}\n"
     ]
    }
   ],
   "source": [
    "#1-Program to count the number of matching characters in a pair of string\n",
    "a='hello'\n",
    "b='harsha'\n",
    "c=set(a)\n",
    "d=set(b)\n",
    "e=c&d\n",
    "print(\"Number of matching characters :\",len(e))\n",
    "print(\"Matching character is:\",e)"
   ]
  },
  {
   "cell_type": "code",
   "execution_count": 38,
   "id": "c134cc38",
   "metadata": {},
   "outputs": [
    {
     "ename": "TypeError",
     "evalue": "string indices must be integers",
     "output_type": "error",
     "traceback": [
      "\u001b[1;31m---------------------------------------------------------------------------\u001b[0m",
      "\u001b[1;31mTypeError\u001b[0m                                 Traceback (most recent call last)",
      "\u001b[1;32m<ipython-input-38-a5ac71c45e6e>\u001b[0m in \u001b[0;36m<module>\u001b[1;34m\u001b[0m\n\u001b[0;32m      2\u001b[0m \u001b[0ma\u001b[0m\u001b[1;33m=\u001b[0m\u001b[1;34m'hello,aswani.'\u001b[0m\u001b[1;33m\u001b[0m\u001b[1;33m\u001b[0m\u001b[0m\n\u001b[0;32m      3\u001b[0m \u001b[0mb\u001b[0m\u001b[1;33m=\u001b[0m\u001b[0mtuple\u001b[0m\u001b[1;33m(\u001b[0m\u001b[0ma\u001b[0m\u001b[1;33m)\u001b[0m\u001b[1;33m\u001b[0m\u001b[1;33m\u001b[0m\u001b[0m\n\u001b[1;32m----> 4\u001b[1;33m \u001b[0mprint\u001b[0m\u001b[1;33m(\u001b[0m\u001b[0ma\u001b[0m\u001b[1;33m[\u001b[0m\u001b[1;34m','\u001b[0m\u001b[1;33m]\u001b[0m\u001b[1;33m)\u001b[0m\u001b[1;33m\u001b[0m\u001b[1;33m\u001b[0m\u001b[0m\n\u001b[0m",
      "\u001b[1;31mTypeError\u001b[0m: string indices must be integers"
     ]
    }
   ],
   "source": [
    "#Program to swap commas and dots in a string\n",
    "a='hello,aswani.'\n",
    "b=tuple(a)\n",
    "print(a[','])"
   ]
  },
  {
   "cell_type": "code",
   "execution_count": 2,
   "id": "52200f0d",
   "metadata": {},
   "outputs": [
    {
     "name": "stdout",
     "output_type": "stream",
     "text": [
      "Finding string:hey\n",
      "Not Present\n"
     ]
    }
   ],
   "source": [
    "#3-Program to check if a substring is present in a given string\n",
    "a='hello aswani'\n",
    "b=a.split(' ')\n",
    "c=input(\"Finding string:\")\n",
    "if(c in b):\n",
    "    print(\"Present\")\n",
    "else:\n",
    "    print(\"Not Present\")"
   ]
  },
  {
   "cell_type": "code",
   "execution_count": 9,
   "id": "2753ce35",
   "metadata": {},
   "outputs": [
    {
     "name": "stdout",
     "output_type": "stream",
     "text": [
      "Number of characters: 32\n",
      "Number of words: 5\n"
     ]
    }
   ],
   "source": [
    "#4-Program to calculate the number of words and number of characters present in a string\n",
    "a='python is a programming language'\n",
    "b=a.split(' ')\n",
    "print(\"Number of characters:\",len(a))\n",
    "print(\"Number of words:\",len(b))"
   ]
  },
  {
   "cell_type": "code",
   "execution_count": 8,
   "id": "81749add",
   "metadata": {},
   "outputs": [
    {
     "name": "stdout",
     "output_type": "stream",
     "text": [
      "Letters are in the two substring but not in both : {'a', 'n', 's', 'o', 'e', 'l', 'd', 'i', 'r'}\n"
     ]
    }
   ],
   "source": [
    "#5-Program that displays which letters are in the two substring but not in both\n",
    "a='hello world'\n",
    "b='hi aswani'\n",
    "c=set(a)\n",
    "d=set(b)\n",
    "e=c&d\n",
    "f=c|d\n",
    "g=f-e\n",
    "print(\"Letters are in the two substring but not in both :\",g)"
   ]
  },
  {
   "cell_type": "code",
   "execution_count": 12,
   "id": "3c009e08",
   "metadata": {},
   "outputs": [
    {
     "name": "stdout",
     "output_type": "stream",
     "text": [
      "heni\n"
     ]
    }
   ],
   "source": [
    "#6-Program to form a new string made of the first two and last two characters from a given string\n",
    "a='hello aswani'\n",
    "b=a[:2]\n",
    "c=a[-2:]\n",
    "print(b+c)"
   ]
  }
 ],
 "metadata": {
  "kernelspec": {
   "display_name": "Python 3",
   "language": "python",
   "name": "python3"
  },
  "language_info": {
   "codemirror_mode": {
    "name": "ipython",
    "version": 3
   },
   "file_extension": ".py",
   "mimetype": "text/x-python",
   "name": "python",
   "nbconvert_exporter": "python",
   "pygments_lexer": "ipython3",
   "version": "3.8.8"
  }
 },
 "nbformat": 4,
 "nbformat_minor": 5
}
