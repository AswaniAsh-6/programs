{
 "cells": [
  {
   "cell_type": "code",
   "execution_count": 5,
   "id": "d9ada891",
   "metadata": {},
   "outputs": [
    {
     "name": "stdout",
     "output_type": "stream",
     "text": [
      "Mon\n",
      "Tue\n",
      "Wed\n"
     ]
    }
   ],
   "source": [
    "class Node:\n",
    "    def __init__(self, dataval=None):\n",
    "        self.dataval = dataval\n",
    "        self.nextval = None\n",
    "class SLinkedList:\n",
    "    def __init__(self):\n",
    "        self.headval = None\n",
    "    def listprint(self):\n",
    "        printval = self.headval\n",
    "        while printval is not None:\n",
    "            print (printval.dataval)\n",
    "            printval = printval.nextval\n",
    "list = SLinkedList()\n",
    "list.headval = Node(\"Mon\")\n",
    "e2 = Node(\"Tue\")\n",
    "e3 = Node(\"Wed\")\n",
    "list.headval.nextval = e2\n",
    "e2.nextval = e3\n",
    "list.listprint()"
   ]
  },
  {
   "cell_type": "code",
   "execution_count": 11,
   "id": "7ae5e889",
   "metadata": {},
   "outputs": [
    {
     "name": "stdout",
     "output_type": "stream",
     "text": [
      "Linked List\n",
      "4\n",
      "3\n",
      "2\n",
      "1\n",
      "Reversed Linked List\n",
      "1\n",
      "2\n",
      "3\n",
      "4\n"
     ]
    }
   ],
   "source": [
    "class Node:\n",
    "    def __init__(self, data = None, next=None): \n",
    "        self.data = data\n",
    "        self.next = next\n",
    "class LinkedList:\n",
    "    def __init__(self):  \n",
    "        self.head = None\n",
    "    def reverseList(list):\n",
    "        previous = None\n",
    "        current = list.head\n",
    "        following = current.next\n",
    "        while current:\n",
    "            current.next = previous\n",
    "            previous = current     \n",
    "            current = following       \n",
    "            if following:               \n",
    "                following = following.next    \n",
    "        list.head = previous\n",
    "    def push(self, new_data):\n",
    "        new_node = Node(new_data)\n",
    "        new_node.next = self.head\n",
    "        self.head = new_node\n",
    "    def printLL(self):\n",
    "        temp = self.head\n",
    "        while(temp):\n",
    "            print(temp.data)\n",
    "            temp = temp.next\n",
    "LL = LinkedList()\n",
    "LL.push(1)\n",
    "LL.push(2)\n",
    "LL.push(3)\n",
    "LL.push(4)\n",
    "print(\"Linked List\")\n",
    "LL.printLL()\n",
    "print(\"Reversed Linked List\")\n",
    "reverseList(LL)\n",
    "LL.printLL()"
   ]
  },
  {
   "cell_type": "code",
   "execution_count": 20,
   "id": "2751d0db",
   "metadata": {},
   "outputs": [
    {
     "name": "stdout",
     "output_type": "stream",
     "text": [
      "The unsorted list is:  [5, 3, 8, 6, 7, 2]\n",
      "The sorted list is:  [2, 3, 5, 6, 7, 8]\n"
     ]
    }
   ],
   "source": [
    "list1 = [5, 3, 8, 6, 7, 2] \n",
    "n=len(list1)\n",
    "def bubble_sort(list1):   \n",
    "    for i in range(0,n-1): \n",
    "        for j in range(0,n-1):  \n",
    "            if(list1[j]>list1[j+1]):  \n",
    "                temp = list1[j]  \n",
    "                list1[j] = list1[j+1]  \n",
    "                list1[j+1] = temp  \n",
    "    return list1   \n",
    "print(\"The unsorted list is: \", list1)  \n",
    "print(\"The sorted list is: \", bubble_sort(list1))  "
   ]
  },
  {
   "cell_type": "code",
   "execution_count": 22,
   "id": "9d7622ff",
   "metadata": {},
   "outputs": [
    {
     "name": "stdout",
     "output_type": "stream",
     "text": [
      "The unsorted list is: [10, 5, 13, 8, 2]\n",
      "The sorted list is: [2, 5, 8, 10, 13]\n"
     ]
    }
   ],
   "source": [
    "list2 = [10, 5, 13, 8, 2]  \n",
    "m=len(list2)\n",
    "def insertion_sort(list2):   \n",
    "        for i in range(1,m):  \n",
    "            value = list2[i]  \n",
    "            j = i - 1  \n",
    "            while j >= 0 and value < list2[j]:  \n",
    "                list2[j + 1] = list2[j]  \n",
    "                j -= 1  \n",
    "            list2[j + 1] = value  \n",
    "        return list2\n",
    "print(\"The unsorted list is:\", list2)  \n",
    "print(\"The sorted list is:\", insertion_sort(list2))"
   ]
  },
  {
   "cell_type": "code",
   "execution_count": null,
   "id": "f11917d7",
   "metadata": {},
   "outputs": [],
   "source": []
  }
 ],
 "metadata": {
  "kernelspec": {
   "display_name": "Python 3",
   "language": "python",
   "name": "python3"
  },
  "language_info": {
   "codemirror_mode": {
    "name": "ipython",
    "version": 3
   },
   "file_extension": ".py",
   "mimetype": "text/x-python",
   "name": "python",
   "nbconvert_exporter": "python",
   "pygments_lexer": "ipython3",
   "version": "3.8.8"
  }
 },
 "nbformat": 4,
 "nbformat_minor": 5
}
