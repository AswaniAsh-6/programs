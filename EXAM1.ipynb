{
 "cells": [
  {
   "cell_type": "code",
   "execution_count": 1,
   "id": "bd29a492",
   "metadata": {},
   "outputs": [
    {
     "name": "stdout",
     "output_type": "stream",
     "text": [
      "2\n",
      "4\n",
      "6\n",
      "8\n"
     ]
    }
   ],
   "source": [
    "#1)Even numbers from a list\n",
    "l=[1,2,3,4,5,6,7,8,9]\n",
    "for i in l:\n",
    "    if i%2==0:\n",
    "        print(i)"
   ]
  },
  {
   "cell_type": "code",
   "execution_count": 8,
   "id": "6d652fe0",
   "metadata": {},
   "outputs": [
    {
     "name": "stdout",
     "output_type": "stream",
     "text": [
      "[1, 2, 3, 4, 5, 6, 7, 8]\n"
     ]
    }
   ],
   "source": [
    "#2)Merge two Lists\n",
    "a=[1,2,3,4]\n",
    "b=[5,6,7,8]\n",
    "c=a+b\n",
    "print(c)"
   ]
  },
  {
   "cell_type": "code",
   "execution_count": 10,
   "id": "9292c1f5",
   "metadata": {},
   "outputs": [
    {
     "name": "stdout",
     "output_type": "stream",
     "text": [
      "[8, 4, 5, 7, 2]\n"
     ]
    }
   ],
   "source": [
    "#3)Interchange first and last elements of a List\n",
    "l=[2,4,5,7,8]\n",
    "l[0],l[-1]=l[-1],l[0]\n",
    "print(l)"
   ]
  },
  {
   "cell_type": "code",
   "execution_count": 51,
   "id": "81707cdd",
   "metadata": {},
   "outputs": [
    {
     "name": "stdout",
     "output_type": "stream",
     "text": [
      "Given list is in Ascending order\n"
     ]
    }
   ],
   "source": [
    "#4)Given list is in Ascending order or not\n",
    "l=[1,2,3,4,5]\n",
    "s=sorted(l)\n",
    "if l==s:\n",
    "    print(\"Given list is in Ascending order\")\n",
    "else:\n",
    "    print(\"Not in ascending order\")"
   ]
  },
  {
   "cell_type": "code",
   "execution_count": null,
   "id": "0edda6a1",
   "metadata": {},
   "outputs": [],
   "source": [
    "#5)Interchange first and last elements of a List\n",
    "l=[2,4,5,7,8]\n",
    "l[0],l[-1]=l[-1],l[0]\n",
    "print(l)"
   ]
  },
  {
   "cell_type": "code",
   "execution_count": 43,
   "id": "9b9296fa",
   "metadata": {},
   "outputs": [
    {
     "name": "stdout",
     "output_type": "stream",
     "text": [
      "Sum= 21\n"
     ]
    }
   ],
   "source": [
    "#6)Sum of tuple elements\n",
    "t=(2,5,9,4,1)\n",
    "s=sum(t)\n",
    "print(\"Sum=\",s)"
   ]
  },
  {
   "cell_type": "code",
   "execution_count": 59,
   "id": "c0e9dac7",
   "metadata": {},
   "outputs": [
    {
     "ename": "TypeError",
     "evalue": "'tuple' object doesn't support item deletion",
     "output_type": "error",
     "traceback": [
      "\u001b[1;31m---------------------------------------------------------------------------\u001b[0m",
      "\u001b[1;31mTypeError\u001b[0m                                 Traceback (most recent call last)",
      "\u001b[1;32m<ipython-input-59-5828d9021e94>\u001b[0m in \u001b[0;36m<module>\u001b[1;34m\u001b[0m\n\u001b[0;32m      2\u001b[0m \u001b[0ms\u001b[0m\u001b[1;33m=\u001b[0m\u001b[1;33m[\u001b[0m\u001b[1;33m]\u001b[0m\u001b[1;33m\u001b[0m\u001b[1;33m\u001b[0m\u001b[0m\n\u001b[0;32m      3\u001b[0m \u001b[0ms\u001b[0m\u001b[1;33m.\u001b[0m\u001b[0mappend\u001b[0m\u001b[1;33m(\u001b[0m\u001b[0mt1\u001b[0m\u001b[1;33m[\u001b[0m\u001b[1;36m0\u001b[0m\u001b[1;33m]\u001b[0m\u001b[1;33m)\u001b[0m\u001b[1;33m\u001b[0m\u001b[1;33m\u001b[0m\u001b[0m\n\u001b[1;32m----> 4\u001b[1;33m \u001b[1;32mdel\u001b[0m\u001b[1;33m(\u001b[0m\u001b[0mt1\u001b[0m\u001b[1;33m[\u001b[0m\u001b[1;36m0\u001b[0m\u001b[1;33m]\u001b[0m\u001b[1;33m)\u001b[0m\u001b[1;33m\u001b[0m\u001b[1;33m\u001b[0m\u001b[0m\n\u001b[0m\u001b[0;32m      5\u001b[0m \u001b[0mt1\u001b[0m\u001b[1;33m\u001b[0m\u001b[1;33m\u001b[0m\u001b[0m\n",
      "\u001b[1;31mTypeError\u001b[0m: 'tuple' object doesn't support item deletion"
     ]
    }
   ],
   "source": [
    "t1=(4,6,8,1,9)\n",
    "\n"
   ]
  },
  {
   "cell_type": "code",
   "execution_count": 64,
   "id": "316f2c12",
   "metadata": {},
   "outputs": [
    {
     "name": "stdout",
     "output_type": "stream",
     "text": [
      "Union= {1, 3, 4, 5, 6, 7, 8, 9}\n",
      "Intersection= {5, 6}\n",
      "Difference= {1, 3, 4}\n",
      "Symmetric difference= {1, 3, 4, 7, 8, 9}\n"
     ]
    }
   ],
   "source": [
    "#Union,intersection,difference and symmetric difference of sets\n",
    "p={1,3,4,5,6}\n",
    "q={5,6,7,8,9}\n",
    "print(\"Union=\",p|q)\n",
    "print(\"Intersection=\",p&q)\n",
    "print(\"Difference=\",p-q)\n",
    "print(\"Symmetric difference=\",p^q)"
   ]
  },
  {
   "cell_type": "code",
   "execution_count": 95,
   "id": "02ebf0d3",
   "metadata": {},
   "outputs": [
    {
     "name": "stdout",
     "output_type": "stream",
     "text": [
      "{1: 10, 2: 20, 3: 30, 4: 40, 5: 50, 6: 60}\n"
     ]
    }
   ],
   "source": [
    "#Concatenation\n",
    "d1={1:10,2:20}\n",
    "d2={3:30,4:40}\n",
    "d3={5:50,6:60}\n",
    "d1.update(d2)\n",
    "d1.update(d3)\n",
    "print(d1)"
   ]
  },
  {
   "cell_type": "code",
   "execution_count": 76,
   "id": "f463c4c7",
   "metadata": {},
   "outputs": [
    {
     "name": "stdout",
     "output_type": "stream",
     "text": [
      "Key present\n"
     ]
    }
   ],
   "source": [
    "#Given key already exist in a dictionary\n",
    "a={1:20,3:40}\n",
    "b=3\n",
    "if b in a:\n",
    "    print(\"Key present\")\n",
    "else:\n",
    "    print(\"Not present\")"
   ]
  },
  {
   "cell_type": "code",
   "execution_count": 111,
   "id": "a0ea7f4e",
   "metadata": {},
   "outputs": [
    {
     "name": "stdout",
     "output_type": "stream",
     "text": [
      "{1: 10, 2: 20, 3: 30, 4: 40}\n"
     ]
    }
   ],
   "source": [
    "#Add a key to a dictionary\n",
    "c={1:10,2:20,3:30}\n",
    "c[4]=40\n",
    "print(c)"
   ]
  },
  {
   "cell_type": "code",
   "execution_count": 105,
   "id": "d3ed954d",
   "metadata": {},
   "outputs": [
    {
     "name": "stdout",
     "output_type": "stream",
     "text": [
      "2 3 5 6 9 "
     ]
    }
   ],
   "source": [
    "s={2,3,6,9,5}\n",
    "for i in s:\n",
    "    print(i ,end=\" \")"
   ]
  },
  {
   "cell_type": "code",
   "execution_count": 110,
   "id": "09dba06f",
   "metadata": {},
   "outputs": [
    {
     "name": "stdout",
     "output_type": "stream",
     "text": [
      "{2: 20, 3: 30, 1: 10, 4: 40}\n"
     ]
    }
   ],
   "source": [
    "l=[(2,20),(3,30),(1,10),(4,40)]\n",
    "a=dict(l)\n",
    "print(a)"
   ]
  },
  {
   "cell_type": "code",
   "execution_count": 130,
   "id": "8fa1b23d",
   "metadata": {},
   "outputs": [
    {
     "name": "stdout",
     "output_type": "stream",
     "text": [
      "[(2, 10), (1, 20), (3, 30), (4, 40)]\n"
     ]
    }
   ],
   "source": [
    "def a(tup):\n",
    "    tup.sort(key=lambda x:x[1])\n",
    "    return tup\n",
    "tup=[(2,10),(3,30),(1,20),(4,40)]\n",
    "print(a(tup))"
   ]
  },
  {
   "cell_type": "code",
   "execution_count": 122,
   "id": "308ab873",
   "metadata": {},
   "outputs": [
    {
     "name": "stdout",
     "output_type": "stream",
     "text": [
      "Enter x:3\n",
      "Enter y:2\n",
      "Addition= 5\n",
      "Substraction= 1\n",
      "Multiplication= 6\n",
      "Division= 1.5\n"
     ]
    }
   ],
   "source": [
    "def add(x,y):\n",
    "    return x+y\n",
    "def sub(x,y):\n",
    "    return x-y\n",
    "def mul(x,y):\n",
    "    return x*y\n",
    "def div(x,y):\n",
    "    return x/y\n",
    "a=int(input(\"Enter x:\"))\n",
    "b=int(input(\"Enter y:\"))\n",
    "print(\"Addition=\",add(a,b))\n",
    "print(\"Substraction=\",sub(a,b))\n",
    "print(\"Multiplication=\",mul(a,b))\n",
    "print(\"Division=\",div(a,b))"
   ]
  },
  {
   "cell_type": "code",
   "execution_count": null,
   "id": "c27c5adc",
   "metadata": {},
   "outputs": [],
   "source": []
  }
 ],
 "metadata": {
  "kernelspec": {
   "display_name": "Python 3",
   "language": "python",
   "name": "python3"
  },
  "language_info": {
   "codemirror_mode": {
    "name": "ipython",
    "version": 3
   },
   "file_extension": ".py",
   "mimetype": "text/x-python",
   "name": "python",
   "nbconvert_exporter": "python",
   "pygments_lexer": "ipython3",
   "version": "3.8.8"
  }
 },
 "nbformat": 4,
 "nbformat_minor": 5
}
