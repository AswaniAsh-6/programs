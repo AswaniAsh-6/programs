{
 "cells": [
  {
   "cell_type": "code",
   "execution_count": 2,
   "id": "a365c479",
   "metadata": {},
   "outputs": [
    {
     "name": "stdout",
     "output_type": "stream",
     "text": [
      "5\n"
     ]
    }
   ],
   "source": [
    "n=25876\n",
    "c=0\n",
    "while n!=0:\n",
    "    n//=10\n",
    "    c+=1\n",
    "print(c)"
   ]
  },
  {
   "cell_type": "code",
   "execution_count": 6,
   "id": "6968e76b",
   "metadata": {},
   "outputs": [
    {
     "name": "stdout",
     "output_type": "stream",
     "text": [
      "Enter first number4\n",
      "Enter second number6\n",
      "The GCD  is:  2\n"
     ]
    }
   ],
   "source": [
    "a = int(input(\"Enter first number:\"))\n",
    "b = int(input(\"Enter second number:\"))\n",
    "while a != b:\n",
    "    if a > b:\n",
    "        a-=b\n",
    "    else:\n",
    "        b-=a\n",
    "print (\"The GCD  is: \", a)"
   ]
  },
  {
   "cell_type": "code",
   "execution_count": 37,
   "id": "b236325f",
   "metadata": {},
   "outputs": [
    {
     "name": "stdout",
     "output_type": "stream",
     "text": [
      "Please enter a number :6\n",
      "Not a Prime Number\n"
     ]
    }
   ],
   "source": [
    "n=int(input(\"Please enter a number :\"))\n",
    "count = 0\n",
    "i = 2\n",
    "while(i<=n//2):\n",
    "    if(n%i==0):\n",
    "        count=count+1\n",
    "        break\n",
    "    i=i+1\n",
    "if (count==0 and n!=1):\n",
    "    print(\"Prime Number\")\n",
    "else:\n",
    "    print(\"Not a Prime Number\")"
   ]
  },
  {
   "cell_type": "code",
   "execution_count": 39,
   "id": "45b96dc8",
   "metadata": {},
   "outputs": [
    {
     "name": "stdout",
     "output_type": "stream",
     "text": [
      "Enter a number10\n",
      "Number is Even\n"
     ]
    }
   ],
   "source": [
    "n=int(input(\"Enter a number\"))\n",
    "if n%2==0:\n",
    "    print(\"Number is Even\")\n",
    "else:\n",
    "    print(\"Number is odd\")"
   ]
  },
  {
   "cell_type": "code",
   "execution_count": 41,
   "id": "e607ed66",
   "metadata": {},
   "outputs": [
    {
     "name": "stdout",
     "output_type": "stream",
     "text": [
      "Enter first number40\n",
      "Enter second number35\n",
      "Enter third number38\n",
      "Largest= 40\n"
     ]
    }
   ],
   "source": [
    "a=int(input(\"Enter first number\"))\n",
    "b=int(input(\"Enter second number\"))\n",
    "c=int(input(\"Enter third number\"))\n",
    "if a>b and a>c:\n",
    "    print(\"Largest=\",a)\n",
    "elif b>c:\n",
    "    print(\"Largest=\",b)\n",
    "else:\n",
    "    print(\"Largest=\",c)"
   ]
  },
  {
   "cell_type": "code",
   "execution_count": 45,
   "id": "9227cab7",
   "metadata": {},
   "outputs": [
    {
     "name": "stdout",
     "output_type": "stream",
     "text": [
      "Enter a number230\n",
      "Not armstrong\n"
     ]
    }
   ],
   "source": [
    "n=int(input(\"Enter a number\"))\n",
    "s=0\n",
    "temp=n\n",
    "while temp>0:\n",
    "    a=temp%10\n",
    "    s+=a**3\n",
    "    temp//=10\n",
    "if s==n:\n",
    "        print(\"Armstrong\")\n",
    "else:\n",
    "        print(\"Not armstrong\")"
   ]
  },
  {
   "cell_type": "code",
   "execution_count": 53,
   "id": "7ebaab09",
   "metadata": {},
   "outputs": [
    {
     "name": "stdout",
     "output_type": "stream",
     "text": [
      "[3, 4, 5, 6, 7, 8, 9, 10, 11, 12, 13, 14, 15, 16, 17, 18]\n"
     ]
    }
   ],
   "source": [
    "print(list(range(3,19)))"
   ]
  },
  {
   "cell_type": "code",
   "execution_count": 69,
   "id": "3a2cc48e",
   "metadata": {},
   "outputs": [
    {
     "name": "stdout",
     "output_type": "stream",
     "text": [
      "Prime Numbers\n",
      "2\n",
      "3\n",
      "5\n",
      "7\n",
      "11\n",
      "13\n",
      "17\n",
      "19\n"
     ]
    }
   ],
   "source": [
    "print(\"Prime Numbers\")\n",
    "for n in range(1,20):\n",
    "    if n>1:\n",
    "        for i in range(2,n):\n",
    "            if (n%i)==0:\n",
    "                break\n",
    "        else:  \n",
    "            print(n)"
   ]
  },
  {
   "cell_type": "code",
   "execution_count": 56,
   "id": "f530b962",
   "metadata": {},
   "outputs": [
    {
     "name": "stdout",
     "output_type": "stream",
     "text": [
      "Not a Prime Number\n"
     ]
    }
   ],
   "source": [
    "n=4\n",
    "count = 0\n",
    "i = 2\n",
    "while(i<=n//2):\n",
    "    if(n%i==0):\n",
    "        count=count+1\n",
    "        break\n",
    "    i=i+1\n",
    "if (count==0 and n!=1):\n",
    "    print(\"Prime Number\")\n",
    "else:\n",
    "    print(\"Not a Prime Number\")"
   ]
  },
  {
   "cell_type": "code",
   "execution_count": 76,
   "id": "82a84b77",
   "metadata": {},
   "outputs": [
    {
     "name": "stdout",
     "output_type": "stream",
     "text": [
      "Enter a number :5\n",
      "Factorial 120\n"
     ]
    }
   ],
   "source": [
    "n=int(input(\"Enter a number :\"))\n",
    "s=1\n",
    "for i in range(1,n+1):\n",
    "    s*=i\n",
    "    i+=1\n",
    "print(\"Factorial\",s)"
   ]
  },
  {
   "cell_type": "code",
   "execution_count": 34,
   "id": "4536a9b6",
   "metadata": {},
   "outputs": [
    {
     "name": "stdout",
     "output_type": "stream",
     "text": [
      "Enter a number :5\n",
      "Prime\n"
     ]
    }
   ],
   "source": [
    "n=int(input(\"Enter a number :\"))\n",
    "for i in range(2,n-1):\n",
    "    a=n%i\n",
    "    i+=1\n",
    "if a==0:\n",
    "    print(\"Not Prime\")\n",
    "else:\n",
    "     print(\"Prime\")"
   ]
  },
  {
   "cell_type": "code",
   "execution_count": 39,
   "id": "ab2c43d8",
   "metadata": {},
   "outputs": [
    {
     "name": "stdout",
     "output_type": "stream",
     "text": [
      "Enter no of rows :7\n",
      " *  \n",
      " *  *  \n",
      " *  *  *  \n",
      " *  *  *  *  \n",
      " *  *  *  *  *  \n",
      " *  *  *  *  *  *  \n",
      " *  *  *  *  *  *  *  \n"
     ]
    }
   ],
   "source": [
    "a=int(input(\"Enter no of rows :\"))\n",
    "k=0\n",
    "for i in range(0,a):\n",
    "    for j in range(1,a+1):\n",
    "        print(end=\"\")\n",
    "    while k!=(1*i+1):\n",
    "        print(\" * \",end=\"\")\n",
    "        k+=1\n",
    "    k=0\n",
    "    print(\" \")"
   ]
  },
  {
   "cell_type": "code",
   "execution_count": 46,
   "id": "7a1d7735",
   "metadata": {},
   "outputs": [
    {
     "name": "stdout",
     "output_type": "stream",
     "text": [
      "Enter no of rows :5\n",
      "0   \n",
      "1  1   \n",
      "2  2  2   \n",
      "3  3  3  3   \n",
      "4  4  4  4  4   \n"
     ]
    }
   ],
   "source": [
    "a=int(input(\"Enter no of rows :\"))\n",
    "k=0\n",
    "for i in range(0,a):\n",
    "    for j in range(1,a+1):\n",
    "        print(end=\"\")\n",
    "    while k!=(1*i+1):\n",
    "        print(i,\" \",end=\"\")\n",
    "        k+=1\n",
    "    k=0\n",
    "    print(\" \")"
   ]
  },
  {
   "cell_type": "code",
   "execution_count": 57,
   "id": "fd6693ef",
   "metadata": {},
   "outputs": [
    {
     "name": "stdout",
     "output_type": "stream",
     "text": [
      "Enter no of rows :6\n",
      "  A\n",
      "  B  B\n",
      "  C  C  C\n",
      "  D  D  D  D\n",
      "  E  E  E  E  E\n",
      "  F  F  F  F  F  F\n"
     ]
    }
   ],
   "source": [
    "a=int(input(\"Enter no of rows :\"))\n",
    "ascii_value=65\n",
    "for i in range(a):\n",
    "    for j in range(i+1):\n",
    "        b=chr(ascii_value)\n",
    "        print(\" \",b,end=\"\")\n",
    "    ascii_value+=1\n",
    "    print()"
   ]
  },
  {
   "cell_type": "code",
   "execution_count": null,
   "id": "4faa4b5f",
   "metadata": {},
   "outputs": [],
   "source": []
  },
  {
   "cell_type": "code",
   "execution_count": null,
   "id": "b0ec3f9c",
   "metadata": {},
   "outputs": [],
   "source": []
  }
 ],
 "metadata": {
  "kernelspec": {
   "display_name": "Python 3",
   "language": "python",
   "name": "python3"
  },
  "language_info": {
   "codemirror_mode": {
    "name": "ipython",
    "version": 3
   },
   "file_extension": ".py",
   "mimetype": "text/x-python",
   "name": "python",
   "nbconvert_exporter": "python",
   "pygments_lexer": "ipython3",
   "version": "3.8.8"
  }
 },
 "nbformat": 4,
 "nbformat_minor": 5
}
