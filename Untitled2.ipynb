{
 "cells": [
  {
   "cell_type": "code",
   "execution_count": 4,
   "id": "20f936e2",
   "metadata": {},
   "outputs": [
    {
     "name": "stdout",
     "output_type": "stream",
     "text": [
      "Hello aswani\n"
     ]
    }
   ],
   "source": [
    "def abc(name):\n",
    "    print(\"Hello \"+name)\n",
    "abc(\"aswani\")"
   ]
  },
  {
   "cell_type": "code",
   "execution_count": 9,
   "id": "6ae14baa",
   "metadata": {},
   "outputs": [
    {
     "ename": "NameError",
     "evalue": "name 'xyx' is not defined",
     "output_type": "error",
     "traceback": [
      "\u001b[1;31m---------------------------------------------------------------------------\u001b[0m",
      "\u001b[1;31mNameError\u001b[0m                                 Traceback (most recent call last)",
      "\u001b[1;32m<ipython-input-9-18374f710d7f>\u001b[0m in \u001b[0;36m<module>\u001b[1;34m\u001b[0m\n\u001b[1;32m----> 1\u001b[1;33m \u001b[0mxyx\u001b[0m\u001b[1;33m(\u001b[0m\u001b[1;34m\"anju\"\u001b[0m\u001b[1;33m)\u001b[0m\u001b[1;33m\u001b[0m\u001b[1;33m\u001b[0m\u001b[0m\n\u001b[0m\u001b[0;32m      2\u001b[0m \u001b[1;32mdef\u001b[0m \u001b[0mxyz\u001b[0m\u001b[1;33m(\u001b[0m\u001b[0mage\u001b[0m\u001b[1;33m)\u001b[0m\u001b[1;33m:\u001b[0m\u001b[1;33m\u001b[0m\u001b[1;33m\u001b[0m\u001b[0m\n\u001b[0;32m      3\u001b[0m     \u001b[0mprint\u001b[0m\u001b[1;33m(\u001b[0m\u001b[1;34m\"Age\"\u001b[0m\u001b[1;33m+\u001b[0m\u001b[0mage\u001b[0m\u001b[1;33m)\u001b[0m\u001b[1;33m\u001b[0m\u001b[1;33m\u001b[0m\u001b[0m\n",
      "\u001b[1;31mNameError\u001b[0m: name 'xyx' is not defined"
     ]
    }
   ],
   "source": [
    "xyx(\"anju\")\n",
    "def xyz(age):\n",
    "    print(\"Age\"+age)"
   ]
  },
  {
   "cell_type": "code",
   "execution_count": 12,
   "id": "9ebcaf5c",
   "metadata": {},
   "outputs": [
    {
     "name": "stdout",
     "output_type": "stream",
     "text": [
      "Hello aswani \n",
      "documentation\n",
      "    string\n"
     ]
    }
   ],
   "source": [
    "def fun(name):\n",
    "    \"\"\"documentation\n",
    "    string\"\"\"\n",
    "    print(\"Hello \"+name)\n",
    "fun(\"aswani \")\n",
    "print(fun.__doc__)"
   ]
  },
  {
   "cell_type": "code",
   "execution_count": 15,
   "id": "69277d78",
   "metadata": {},
   "outputs": [
    {
     "name": "stdout",
     "output_type": "stream",
     "text": [
      "2\n",
      "4\n"
     ]
    }
   ],
   "source": [
    "def value(num):\n",
    "    if num>=0:\n",
    "        return num\n",
    "    else:\n",
    "        return -num\n",
    "print(value(2))\n",
    "print(value(-4))"
   ]
  },
  {
   "cell_type": "code",
   "execution_count": 18,
   "id": "cefa3215",
   "metadata": {},
   "outputs": [
    {
     "name": "stdout",
     "output_type": "stream",
     "text": [
      "inside 20\n",
      "outside 30\n"
     ]
    }
   ],
   "source": [
    "def func():\n",
    "    x=20\n",
    "    print(\"inside\",x)\n",
    "x=30\n",
    "func()\n",
    "print(\"outside\",x)"
   ]
  },
  {
   "cell_type": "code",
   "execution_count": 20,
   "id": "c7d01b9e",
   "metadata": {},
   "outputs": [
    {
     "data": {
      "text/plain": [
       "11"
      ]
     },
     "execution_count": 20,
     "metadata": {},
     "output_type": "execute_result"
    }
   ],
   "source": [
    "def add12(x,y):\n",
    "    s=x+y\n",
    "    return s\n",
    "x=3\n",
    "y=8\n",
    "add12(x,y)"
   ]
  },
  {
   "cell_type": "code",
   "execution_count": 23,
   "id": "ebc78b8c",
   "metadata": {},
   "outputs": [
    {
     "name": "stdout",
     "output_type": "stream",
     "text": [
      "Hello Kate,Good morning 32\n",
      "Hello Bruce,How do you do 25\n"
     ]
    }
   ],
   "source": [
    "def greet(name,msg=\"Good morning\",age=32):\n",
    "    print(\"Hello\",name+','+msg,+age)\n",
    "greet(\"Kate\")\n",
    "greet(\"Bruce\",\"How do you do\",25)"
   ]
  },
  {
   "cell_type": "code",
   "execution_count": 1,
   "id": "64cb6f1d",
   "metadata": {},
   "outputs": [
    {
     "name": "stdout",
     "output_type": "stream",
     "text": [
      "9\n"
     ]
    }
   ],
   "source": [
    "double=lambda x:x*3\n",
    "print(double(3))"
   ]
  },
  {
   "cell_type": "code",
   "execution_count": 2,
   "id": "e55f752a",
   "metadata": {},
   "outputs": [
    {
     "name": "stdout",
     "output_type": "stream",
     "text": [
      "[2, 4, 6, 8]\n"
     ]
    }
   ],
   "source": [
    "l=[1,2,3,4,5,6,7,8]\n",
    "a=list(filter(lambda x:(x%2==0),l))\n",
    "print(a)"
   ]
  },
  {
   "cell_type": "code",
   "execution_count": 3,
   "id": "e0c8d1b5",
   "metadata": {},
   "outputs": [
    {
     "name": "stdout",
     "output_type": "stream",
     "text": [
      "[2, 4, 6, 8, 10, 12]\n"
     ]
    }
   ],
   "source": [
    "l=[1,2,3,4,5,6]\n",
    "a=list(map(lambda x:x*2,l))\n",
    "print(a)"
   ]
  },
  {
   "cell_type": "code",
   "execution_count": 4,
   "id": "8ee9103b",
   "metadata": {},
   "outputs": [
    {
     "name": "stdout",
     "output_type": "stream",
     "text": [
      "x inside : global\n",
      "x outside: global\n"
     ]
    }
   ],
   "source": [
    "x=\"global\"\n",
    "def foo():\n",
    "    print(\"x inside :\",x)\n",
    "foo()\n",
    "print(\"x outside:\",x)"
   ]
  },
  {
   "cell_type": "code",
   "execution_count": 8,
   "id": "35b9c527",
   "metadata": {},
   "outputs": [
    {
     "name": "stdout",
     "output_type": "stream",
     "text": [
      "globalglobal\n",
      "outside: globalglobal\n"
     ]
    }
   ],
   "source": [
    "x=\"global\"\n",
    "def hi():\n",
    "    global x\n",
    "    x=x*2\n",
    "    print(x)\n",
    "hi()\n",
    "print(\"outside:\",x)"
   ]
  },
  {
   "cell_type": "code",
   "execution_count": 11,
   "id": "b01ac77c",
   "metadata": {},
   "outputs": [
    {
     "name": "stdout",
     "output_type": "stream",
     "text": [
      "local\n"
     ]
    }
   ],
   "source": [
    "def foo():\n",
    "    y=\"local\"\n",
    "    print(y)\n",
    "foo()"
   ]
  },
  {
   "cell_type": "code",
   "execution_count": 12,
   "id": "cf497471",
   "metadata": {},
   "outputs": [
    {
     "name": "stdout",
     "output_type": "stream",
     "text": [
      "Local: 10\n",
      "Global: 5\n"
     ]
    }
   ],
   "source": [
    "x=5\n",
    "def foo():\n",
    "    x=10\n",
    "    print(\"Local:\",x)\n",
    "foo()\n",
    "print(\"Global:\",x)"
   ]
  },
  {
   "cell_type": "code",
   "execution_count": 17,
   "id": "f58532b3",
   "metadata": {},
   "outputs": [
    {
     "name": "stdout",
     "output_type": "stream",
     "text": [
      "Pie: 3.141592653589793\n"
     ]
    }
   ],
   "source": [
    "import math as m\n",
    "print(\"Pie:\",m.pi)"
   ]
  },
  {
   "cell_type": "code",
   "execution_count": 21,
   "id": "ebe539d7",
   "metadata": {},
   "outputs": [
    {
     "name": "stdout",
     "output_type": "stream",
     "text": [
      "2.718281828459045\n"
     ]
    }
   ],
   "source": [
    "from math import *\n",
    "print(e)"
   ]
  },
  {
   "cell_type": "code",
   "execution_count": null,
   "id": "4dcd2a16",
   "metadata": {},
   "outputs": [],
   "source": []
  }
 ],
 "metadata": {
  "kernelspec": {
   "display_name": "Python 3",
   "language": "python",
   "name": "python3"
  },
  "language_info": {
   "codemirror_mode": {
    "name": "ipython",
    "version": 3
   },
   "file_extension": ".py",
   "mimetype": "text/x-python",
   "name": "python",
   "nbconvert_exporter": "python",
   "pygments_lexer": "ipython3",
   "version": "3.8.8"
  }
 },
 "nbformat": 4,
 "nbformat_minor": 5
}
