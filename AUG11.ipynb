{
 "cells": [
  {
   "cell_type": "code",
   "execution_count": 12,
   "id": "5f907bff",
   "metadata": {},
   "outputs": [
    {
     "name": "stdout",
     "output_type": "stream",
     "text": [
      "Enter key :5\n",
      "Not present\n"
     ]
    }
   ],
   "source": [
    "#1-Program to check if a key is already present in a dictionary\n",
    "A={1:'a',2:'b',3:'c',4:'d'}\n",
    "b=int(input(\"Enter key :\"))\n",
    "c=A.keys()\n",
    "if(b in c):\n",
    "    print(\"Key is present\")\n",
    "else:\n",
    "    print(\"Not present\")"
   ]
  },
  {
   "cell_type": "code",
   "execution_count": 65,
   "id": "90da013d",
   "metadata": {},
   "outputs": [
    {
     "name": "stdout",
     "output_type": "stream",
     "text": [
      "{1: 'chaithanya', 2: 'chaithanya', 3: 'chaithanya'}\n"
     ]
    }
   ],
   "source": [
    "#2-Python program to convert a list to list of dictionaries.\n",
    "a=[1,'aswani',2,'sabna',3,'chaithanya']\n",
    "n=len(a)\n",
    "s=[]\n",
    "t=[]\n",
    "for i in range(0,n,2):\n",
    "    p=(a[i])\n",
    "    s.append(p)\n",
    "for j in range(1,n,2):\n",
    "    q=(a[j])\n",
    "    t.append(q)\n",
    "for k in t:\n",
    "    d=dict.fromkeys(s,k)   \n",
    "print(d)"
   ]
  },
  {
   "cell_type": "code",
   "execution_count": 54,
   "id": "85e9cd1b",
   "metadata": {},
   "outputs": [
    {
     "name": "stdout",
     "output_type": "stream",
     "text": [
      "After multiplication: 400\n"
     ]
    }
   ],
   "source": [
    "#3-Program to multiply all the items in a dictionary\n",
    "a={'maths':10,'english':8,'physics':5}\n",
    "s=1\n",
    "for i in a:\n",
    "    s=s*a[i]\n",
    "print(\"After multiplication:\",s)"
   ]
  },
  {
   "cell_type": "code",
   "execution_count": null,
   "id": "9e33cd40",
   "metadata": {},
   "outputs": [],
   "source": [
    "#4-Program to map to list into a dictionary\n"
   ]
  }
 ],
 "metadata": {
  "kernelspec": {
   "display_name": "Python 3",
   "language": "python",
   "name": "python3"
  },
  "language_info": {
   "codemirror_mode": {
    "name": "ipython",
    "version": 3
   },
   "file_extension": ".py",
   "mimetype": "text/x-python",
   "name": "python",
   "nbconvert_exporter": "python",
   "pygments_lexer": "ipython3",
   "version": "3.8.8"
  }
 },
 "nbformat": 4,
 "nbformat_minor": 5
}
