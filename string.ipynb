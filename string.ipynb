{
 "cells": [
  {
   "cell_type": "code",
   "execution_count": 10,
   "id": "3faa5b83",
   "metadata": {},
   "outputs": [
    {
     "name": "stdout",
     "output_type": "stream",
     "text": [
      "first character h\n",
      "last character o\n"
     ]
    }
   ],
   "source": [
    "a='hello'\n",
    "print(\"first character\",a[0])\n",
    "print(\"last character\",a[-1])"
   ]
  },
  {
   "cell_type": "code",
   "execution_count": 11,
   "id": "d262bd92",
   "metadata": {},
   "outputs": [
    {
     "name": "stdout",
     "output_type": "stream",
     "text": [
      "<class 'str'>\n"
     ]
    }
   ],
   "source": [
    "print(type(a))"
   ]
  },
  {
   "cell_type": "code",
   "execution_count": 15,
   "id": "abe9edee",
   "metadata": {},
   "outputs": [
    {
     "name": "stdout",
     "output_type": "stream",
     "text": [
      "hello\n"
     ]
    }
   ],
   "source": [
    "b='hello world'\n",
    "print(b[:5])"
   ]
  },
  {
   "cell_type": "code",
   "execution_count": 16,
   "id": "a5db8f60",
   "metadata": {},
   "outputs": [
    {
     "name": "stdout",
     "output_type": "stream",
     "text": [
      " world\n"
     ]
    }
   ],
   "source": [
    "print(b[5:])"
   ]
  },
  {
   "cell_type": "code",
   "execution_count": 17,
   "id": "3fdfac31",
   "metadata": {},
   "outputs": [
    {
     "name": "stdout",
     "output_type": "stream",
     "text": [
      "llo \n"
     ]
    }
   ],
   "source": [
    "print(b[2:6])"
   ]
  },
  {
   "cell_type": "code",
   "execution_count": 19,
   "id": "8b2d268d",
   "metadata": {},
   "outputs": [
    {
     "name": "stdout",
     "output_type": "stream",
     "text": [
      "hello world\n"
     ]
    }
   ],
   "source": [
    "a='hello '\n",
    "b='world'\n",
    "print(a+b)"
   ]
  },
  {
   "cell_type": "code",
   "execution_count": 21,
   "id": "1fe3e4b7",
   "metadata": {},
   "outputs": [
    {
     "name": "stdout",
     "output_type": "stream",
     "text": [
      "hello hello hello \n"
     ]
    }
   ],
   "source": [
    "a='hello '\n",
    "print(a*3)"
   ]
  },
  {
   "cell_type": "code",
   "execution_count": 22,
   "id": "9197b803",
   "metadata": {},
   "outputs": [
    {
     "name": "stdout",
     "output_type": "stream",
     "text": [
      "h\n",
      "e\n",
      "l\n",
      "l\n",
      "o\n"
     ]
    }
   ],
   "source": [
    "a='hello'\n",
    "for i in a:\n",
    "    print(i)"
   ]
  },
  {
   "cell_type": "code",
   "execution_count": 23,
   "id": "6058b000",
   "metadata": {},
   "outputs": [
    {
     "name": "stdout",
     "output_type": "stream",
     "text": [
      "5\n"
     ]
    }
   ],
   "source": [
    "print(len(a))"
   ]
  },
  {
   "cell_type": "code",
   "execution_count": 25,
   "id": "1d7f8eb1",
   "metadata": {},
   "outputs": [
    {
     "name": "stdout",
     "output_type": "stream",
     "text": [
      "HELLO ASWANI\n"
     ]
    }
   ],
   "source": [
    "a='hello aswani'\n",
    "print(a.upper())"
   ]
  },
  {
   "cell_type": "code",
   "execution_count": 26,
   "id": "08bc95e6",
   "metadata": {},
   "outputs": [
    {
     "name": "stdout",
     "output_type": "stream",
     "text": [
      "hello\n"
     ]
    }
   ],
   "source": [
    "a=\"HELLO\"\n",
    "print(a.lower())"
   ]
  },
  {
   "cell_type": "code",
   "execution_count": 27,
   "id": "8aa07bff",
   "metadata": {},
   "outputs": [
    {
     "name": "stdout",
     "output_type": "stream",
     "text": [
      "hELLO aSWANI\n"
     ]
    }
   ],
   "source": [
    "a='Hello Aswani'\n",
    "print(a.swapcase())"
   ]
  },
  {
   "cell_type": "code",
   "execution_count": 28,
   "id": "884571c4",
   "metadata": {},
   "outputs": [
    {
     "name": "stdout",
     "output_type": "stream",
     "text": [
      "Hello Aswani\n"
     ]
    }
   ],
   "source": [
    "a='hello aswani'\n",
    "print(a.title())"
   ]
  },
  {
   "cell_type": "code",
   "execution_count": 29,
   "id": "c35cdfa2",
   "metadata": {},
   "outputs": [
    {
     "name": "stdout",
     "output_type": "stream",
     "text": [
      "Hello aswani\n"
     ]
    }
   ],
   "source": [
    "a='hello aswani'\n",
    "print(a.capitalize())"
   ]
  },
  {
   "cell_type": "code",
   "execution_count": 41,
   "id": "7a3ffd66",
   "metadata": {},
   "outputs": [
    {
     "name": "stdout",
     "output_type": "stream",
     "text": [
      "Number of vowels= 3\n"
     ]
    }
   ],
   "source": [
    "a='hello world'\n",
    "b='a','e','i','o','u'\n",
    "c=0\n",
    "for i in a:\n",
    "    if(i in b):\n",
    "        c+=1\n",
    "print(\"Number of vowels=\",c)"
   ]
  },
  {
   "cell_type": "code",
   "execution_count": 48,
   "id": "6335d520",
   "metadata": {},
   "outputs": [
    {
     "name": "stdout",
     "output_type": "stream",
     "text": [
      "count:  3\n",
      "FInd : 6\n",
      "split: ['hello', 'world']\n",
      "index: 3\n"
     ]
    }
   ],
   "source": [
    "a='hello world'\n",
    "print(\"count: \",a.count('l'))\n",
    "print(\"FInd :\",a.find('world'))\n",
    "print(\"split:\",a.split(' '))\n",
    "print(\"index:\",a.index('lo'))"
   ]
  },
  {
   "cell_type": "code",
   "execution_count": 49,
   "id": "77415ec6",
   "metadata": {},
   "outputs": [
    {
     "name": "stdout",
     "output_type": "stream",
     "text": [
      "abc\n"
     ]
    }
   ],
   "source": [
    "a=['a','b','c']\n",
    "b=''\n",
    "print(b.join(a))"
   ]
  },
  {
   "cell_type": "code",
   "execution_count": null,
   "id": "8e9edb70",
   "metadata": {},
   "outputs": [],
   "source": []
  }
 ],
 "metadata": {
  "kernelspec": {
   "display_name": "Python 3",
   "language": "python",
   "name": "python3"
  },
  "language_info": {
   "codemirror_mode": {
    "name": "ipython",
    "version": 3
   },
   "file_extension": ".py",
   "mimetype": "text/x-python",
   "name": "python",
   "nbconvert_exporter": "python",
   "pygments_lexer": "ipython3",
   "version": "3.8.8"
  }
 },
 "nbformat": 4,
 "nbformat_minor": 5
}
