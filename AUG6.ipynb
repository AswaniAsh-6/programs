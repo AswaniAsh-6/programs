{
 "cells": [
  {
   "cell_type": "code",
   "execution_count": 2,
   "id": "68a08133",
   "metadata": {},
   "outputs": [
    {
     "data": {
      "text/plain": [
       "5"
      ]
     },
     "execution_count": 2,
     "metadata": {},
     "output_type": "execute_result"
    }
   ],
   "source": [
    "#1-Program to find size of a tuple\n",
    "A=(4,6,3,9,14)\n",
    "a=len(A)\n",
    "a"
   ]
  },
  {
   "cell_type": "code",
   "execution_count": 17,
   "id": "e0da8a99",
   "metadata": {},
   "outputs": [
    {
     "name": "stdout",
     "output_type": "stream",
     "text": [
      "a= [1, 5, 8]\n",
      "b= (4, 9, 2)\n",
      "Tuple to list [1, 5, 8, 4, 9, 2]\n",
      "list to tuple (4, 9, 2, 1, 5, 8)\n"
     ]
    }
   ],
   "source": [
    "#2- Program to list to tuple and viceversa\n",
    "a=[1,5,8]\n",
    "b=(4,9,2)\n",
    "print(\"a=\",a)\n",
    "print(\"b=\",b)\n",
    "c=a+list(b)\n",
    "print(\"Tuple to list\",c)\n",
    "d=b+tuple(a)\n",
    "print(\"list to tuple\",d)"
   ]
  },
  {
   "cell_type": "code",
   "execution_count": 4,
   "id": "4ffae3ad",
   "metadata": {},
   "outputs": [
    {
     "data": {
      "text/plain": [
       "(8, 1, 3, 5)"
      ]
     },
     "execution_count": 4,
     "metadata": {},
     "output_type": "execute_result"
    }
   ],
   "source": [
    "#3-program to remove duplicate tuples\n",
    "A=(1,3,8,5,1,5)\n",
    "B=set(A)\n",
    "C=tuple(B)\n",
    "C"
   ]
  },
  {
   "cell_type": "code",
   "execution_count": 25,
   "id": "a6c26565",
   "metadata": {},
   "outputs": [
    {
     "data": {
      "text/plain": [
       "[(1, 5), (2, 4), (7, 5)]"
      ]
     },
     "execution_count": 25,
     "metadata": {},
     "output_type": "execute_result"
    }
   ],
   "source": [
    "#4-sort list of tuples\n",
    "l=[(2,4),(1,5),(7,5)]\n",
    "l.sort()\n",
    "l"
   ]
  },
  {
   "cell_type": "code",
   "execution_count": 8,
   "id": "033a98e8",
   "metadata": {},
   "outputs": [
    {
     "name": "stdout",
     "output_type": "stream",
     "text": [
      "Enter a number :6\n",
      "Enter a number :4\n",
      "Sum= 10\n"
     ]
    }
   ],
   "source": [
    "#5-Python program to add two numbers\n",
    "a=int(input(\"Enter a number :\"))\n",
    "b=int(input(\"Enter a number :\"))\n",
    "c=a+b\n",
    "print(\"Sum=\",c)"
   ]
  }
 ],
 "metadata": {
  "kernelspec": {
   "display_name": "Python 3",
   "language": "python",
   "name": "python3"
  },
  "language_info": {
   "codemirror_mode": {
    "name": "ipython",
    "version": 3
   },
   "file_extension": ".py",
   "mimetype": "text/x-python",
   "name": "python",
   "nbconvert_exporter": "python",
   "pygments_lexer": "ipython3",
   "version": "3.8.8"
  }
 },
 "nbformat": 4,
 "nbformat_minor": 5
}
