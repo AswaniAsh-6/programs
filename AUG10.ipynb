{
 "cells": [
  {
   "cell_type": "code",
   "execution_count": 9,
   "id": "c64612c7",
   "metadata": {},
   "outputs": [
    {
     "name": "stdout",
     "output_type": "stream",
     "text": [
      "2\n"
     ]
    }
   ],
   "source": [
    "#1-Program to count the numbers of vowels present in strings using sets\n",
    "s={'a','b','c','d','e'}\n",
    "v={'a','e','i','o','u'}\n",
    "count=0\n",
    "for i in v:\n",
    "    if(i in s):\n",
    "        count+=1\n",
    "print(count)"
   ]
  },
  {
   "cell_type": "code",
   "execution_count": 11,
   "id": "d0504efd",
   "metadata": {},
   "outputs": [
    {
     "data": {
      "text/plain": [
       "{2, 3, 4, 5, 6, 8}"
      ]
     },
     "execution_count": 11,
     "metadata": {},
     "output_type": "execute_result"
    }
   ],
   "source": [
    "#2-Add list of elements to a set\n",
    "a=set()\n",
    "a.update([2,4,6,8,3,5])\n",
    "a"
   ]
  },
  {
   "cell_type": "code",
   "execution_count": 13,
   "id": "e09736c9",
   "metadata": {},
   "outputs": [
    {
     "name": "stdout",
     "output_type": "stream",
     "text": [
      "String to set : a= {'sabna', 'chaithanya', 'aswani'}\n",
      "Tuple to set : b= {'aswani', 3, 4, 6}\n",
      "List to set : c= {2, 3.4, 'hello', 7}\n"
     ]
    }
   ],
   "source": [
    "#3-Create sets from string,tuple,list\n",
    "a='aswani','sabna','chaithanya'\n",
    "b=(3,4,6,'aswani')\n",
    "c=[3.4,7,2,'hello']\n",
    "print(\"String to set : a=\",set(a))\n",
    "print(\"Tuple to set : b=\",set(b))\n",
    "print(\"List to set : c=\",set(c))"
   ]
  },
  {
   "cell_type": "code",
   "execution_count": 17,
   "id": "c95eb85e",
   "metadata": {},
   "outputs": [
    {
     "name": "stdout",
     "output_type": "stream",
     "text": [
      "{1, 3, 5, 'a', 'b'}\n"
     ]
    }
   ],
   "source": [
    "#4-Find symmetic differnce of multiple sets\n",
    "a={1,2,3,'a','b'}\n",
    "b={2,3,4,'b','c'}\n",
    "c={3,4,5,'b','c'}\n",
    "print(a^b^c)"
   ]
  },
  {
   "cell_type": "code",
   "execution_count": 4,
   "id": "c328abe6",
   "metadata": {},
   "outputs": [
    {
     "data": {
      "text/plain": [
       "[{1, 2}, {1, 2}, {1, 2}, {1, 3}]"
      ]
     },
     "execution_count": 4,
     "metadata": {},
     "output_type": "execute_result"
    }
   ],
   "source": [
    "#Find duplicate sets in list of sets\n",
    "s=[{1,2},{2,1},{1,2},{1,3}]\n",
    "s"
   ]
  },
  {
   "cell_type": "code",
   "execution_count": 7,
   "id": "77f1927a",
   "metadata": {},
   "outputs": [
    {
     "name": "stdout",
     "output_type": "stream",
     "text": [
      "[1, 2, 3, [4, 5], [7, 9]]\n",
      "[1, 2, 3, [4, 5], [7, 9]]\n"
     ]
    }
   ],
   "source": [
    "#Convert list of list to list of tuples\n",
    "a=[1,2,3,[4,5],[7,9]]\n",
    "for i in a:\n",
    "    if(type(i)==list):\n",
    "        i=set(i)\n",
    "        print(a)"
   ]
  },
  {
   "cell_type": "code",
   "execution_count": 36,
   "id": "06c2cdd6",
   "metadata": {},
   "outputs": [
    {
     "name": "stdout",
     "output_type": "stream",
     "text": [
      "{3, 6}\n"
     ]
    }
   ],
   "source": [
    "#7-Test if any set element exist in list\n",
    "a=[1,2,3,4,5,6,{3,6}]\n",
    "for i in a:\n",
    "    if(type(i)==set):\n",
    "        print(i)"
   ]
  },
  {
   "cell_type": "code",
   "execution_count": 3,
   "id": "24b33587",
   "metadata": {},
   "outputs": [
    {
     "ename": "SyntaxError",
     "evalue": "invalid syntax (<ipython-input-3-5222db175e16>, line 3)",
     "output_type": "error",
     "traceback": [
      "\u001b[1;36m  File \u001b[1;32m\"<ipython-input-3-5222db175e16>\"\u001b[1;36m, line \u001b[1;32m3\u001b[0m\n\u001b[1;33m    print(\"Most common :\",s.())\u001b[0m\n\u001b[1;37m                            ^\u001b[0m\n\u001b[1;31mSyntaxError\u001b[0m\u001b[1;31m:\u001b[0m invalid syntax\n"
     ]
    }
   ],
   "source": [
    "#Find most common elements in set\n",
    "s={1,2,5,7,8,3,2,1,2}\n",
    "print(\"Most common :\",s.())"
   ]
  },
  {
   "cell_type": "code",
   "execution_count": null,
   "id": "637638b7",
   "metadata": {},
   "outputs": [],
   "source": []
  }
 ],
 "metadata": {
  "kernelspec": {
   "display_name": "Python 3",
   "language": "python",
   "name": "python3"
  },
  "language_info": {
   "codemirror_mode": {
    "name": "ipython",
    "version": 3
   },
   "file_extension": ".py",
   "mimetype": "text/x-python",
   "name": "python",
   "nbconvert_exporter": "python",
   "pygments_lexer": "ipython3",
   "version": "3.8.8"
  }
 },
 "nbformat": 4,
 "nbformat_minor": 5
}
