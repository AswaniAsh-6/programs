{
 "cells": [
  {
   "cell_type": "code",
   "execution_count": 9,
   "id": "eb4f7a39",
   "metadata": {},
   "outputs": [
    {
     "name": "stdout",
     "output_type": "stream",
     "text": [
      "Largest even 66\n",
      "Largest odd 99\n"
     ]
    }
   ],
   "source": [
    "#1-Program to print largest even and largest odd numbers in a list  \n",
    "list=[66,36,99,27,49]\n",
    "a=[]\n",
    "b=[]\n",
    "for i in list:\n",
    "    if(i%2==0):\n",
    "        a.append(i)\n",
    "    else:\n",
    "        b.append(i)\n",
    "print(\"Largest even\",max(a))\n",
    "print(\"Largest odd\",max(b))"
   ]
  },
  {
   "cell_type": "code",
   "execution_count": 2,
   "id": "681f3afc",
   "metadata": {},
   "outputs": [
    {
     "data": {
      "text/plain": [
       "[4, 2]"
      ]
     },
     "execution_count": 2,
     "metadata": {},
     "output_type": "execute_result"
    }
   ],
   "source": [
    "#2-Program to swap two elements in a list\n",
    "list=[2,4]\n",
    "list[0],list[1]=list[1],list[0]\n",
    "list"
   ]
  },
  {
   "cell_type": "code",
   "execution_count": 3,
   "id": "83d07d20",
   "metadata": {},
   "outputs": [
    {
     "name": "stdout",
     "output_type": "stream",
     "text": [
      "List is not empty\n"
     ]
    }
   ],
   "source": [
    "#3-Program to check the list empty or not\n",
    "list=[2,5,6]\n",
    "if list==[]:\n",
    "    print(\"empty list\")\n",
    "else:\n",
    "    print(\"List is not empty\")"
   ]
  },
  {
   "cell_type": "code",
   "execution_count": 19,
   "id": "acbd9af0",
   "metadata": {},
   "outputs": [
    {
     "data": {
      "text/plain": [
       "[8, 2, 7, 5, 3]"
      ]
     },
     "execution_count": 19,
     "metadata": {},
     "output_type": "execute_result"
    }
   ],
   "source": [
    "#4-Reverse a list\n",
    "list=[3,5,7,2,8]\n",
    "list.reverse()\n",
    "list"
   ]
  },
  {
   "cell_type": "code",
   "execution_count": 11,
   "id": "54ba5d12",
   "metadata": {},
   "outputs": [
    {
     "name": "stdout",
     "output_type": "stream",
     "text": [
      "Positive numbers\n",
      "1\n",
      "4\n",
      "8\n",
      "9\n",
      "Negative numbers\n",
      "-3\n",
      "-6\n"
     ]
    }
   ],
   "source": [
    "#5-Program to print positive and negative numbers in a list\n",
    "a=[1,4,-3,8,-6,9]\n",
    "print(\"Positive numbers\")\n",
    "for i in a:\n",
    "    if i>=0:\n",
    "        print(i)\n",
    "print(\"Negative numbers\")\n",
    "for i in a:\n",
    "    if i<=0:\n",
    "        print(i)"
   ]
  },
  {
   "cell_type": "code",
   "execution_count": 10,
   "id": "f17a3d81",
   "metadata": {},
   "outputs": [
    {
     "data": {
      "text/plain": [
       "[8, 3, 7, 2, 6]"
      ]
     },
     "execution_count": 10,
     "metadata": {},
     "output_type": "execute_result"
    }
   ],
   "source": [
    "#6-Program to interchange first and last elements in a list\n",
    "list=[6,3,7,2,8]\n",
    "c=len(list)\n",
    "list[0],list[c-1]=list[c-1],list[0]\n",
    "list"
   ]
  },
  {
   "cell_type": "code",
   "execution_count": 12,
   "id": "185ec24a",
   "metadata": {},
   "outputs": [
    {
     "name": "stdout",
     "output_type": "stream",
     "text": [
      "No common element\n"
     ]
    }
   ],
   "source": [
    "#7-Program to check if two lists have atleast one element in common\n",
    "list1=[2,6,10]\n",
    "list2=[4,8,12,16,20]\n",
    "a=set(list1)\n",
    "b=set(list2)\n",
    "i=a.intersection(b)\n",
    "length=len(i)\n",
    "if length==0:\n",
    "    print(\"No common element\")\n",
    "else:\n",
    "    print(\"The common elements are: \",i)"
   ]
  },
  {
   "cell_type": "code",
   "execution_count": 4,
   "id": "741140a6",
   "metadata": {},
   "outputs": [
    {
     "name": "stdout",
     "output_type": "stream",
     "text": [
      "Second largest= 7\n"
     ]
    }
   ],
   "source": [
    "#8-To find second largest number\n",
    "list=[2,5,7,9,1]\n",
    "m=max(list)\n",
    "list.remove(m)\n",
    "print(\"Second largest=\",max(list))"
   ]
  },
  {
   "cell_type": "code",
   "execution_count": 10,
   "id": "cf9b9bf4",
   "metadata": {},
   "outputs": [
    {
     "name": "stdout",
     "output_type": "stream",
     "text": [
      "{8, 4}\n"
     ]
    }
   ],
   "source": [
    "#9-Two find intersection of two lists\n",
    "list1=[2,4,6,8,10]\n",
    "list2=[4,8,12,16,20]\n",
    "a=set(list1)\n",
    "b=set(list2)\n",
    "i=a.intersection(b)\n",
    "print(i)"
   ]
  },
  {
   "cell_type": "code",
   "execution_count": null,
   "id": "fa9cf01a",
   "metadata": {},
   "outputs": [],
   "source": [
    "#10-\n",
    "a=int(input(\"Enter the length\"))\n"
   ]
  }
 ],
 "metadata": {
  "kernelspec": {
   "display_name": "Python 3",
   "language": "python",
   "name": "python3"
  },
  "language_info": {
   "codemirror_mode": {
    "name": "ipython",
    "version": 3
   },
   "file_extension": ".py",
   "mimetype": "text/x-python",
   "name": "python",
   "nbconvert_exporter": "python",
   "pygments_lexer": "ipython3",
   "version": "3.8.8"
  }
 },
 "nbformat": 4,
 "nbformat_minor": 5
}
