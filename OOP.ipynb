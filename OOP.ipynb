{
 "cells": [
  {
   "cell_type": "code",
   "execution_count": 3,
   "id": "1fbfd157",
   "metadata": {},
   "outputs": [
    {
     "name": "stdout",
     "output_type": "stream",
     "text": [
      "BLu is a bird\n",
      "Woo is a bird\n",
      "Blu is 10 years old\n",
      "Woo is 15 years old\n"
     ]
    }
   ],
   "source": [
    "class Parrot:\n",
    "    species=\"bird\"\n",
    "    def __init__(self,name,age):\n",
    "        self.name=name\n",
    "        self.age=age\n",
    "blu=Parrot(\"Blu\",10)\n",
    "woo=Parrot(\"Woo\",15)\n",
    "print(\"BLu is a {}\".format(blu.__class__.species))\n",
    "print(\"Woo is a {}\".format(woo.__class__.species))\n",
    "print(\"{} is {} years old\".format(blu.name,blu.age))\n",
    "print(\"{} is {} years old\".format(woo.name,woo.age))"
   ]
  },
  {
   "cell_type": "code",
   "execution_count": 7,
   "id": "82ad699f",
   "metadata": {},
   "outputs": [
    {
     "name": "stdout",
     "output_type": "stream",
     "text": [
      "Blu sings 'Happy'\n",
      "Blu is now dancing\n"
     ]
    }
   ],
   "source": [
    "class Parrot:\n",
    "    species=\"bird\"\n",
    "    def __init__(self,name,age):\n",
    "        self.name=name\n",
    "        self.age=age\n",
    "    def sing(self,song):\n",
    "        return \"{} sings {}\".format(self.name,song)\n",
    "    def dance(self):\n",
    "        return \"{} is now dancing\".format(self.name)\n",
    "blu=Parrot(\"Blu\",10)\n",
    "print(blu.sing(\"'Happy'\"))\n",
    "print(blu.dance())"
   ]
  },
  {
   "cell_type": "code",
   "execution_count": 10,
   "id": "1c877ebd",
   "metadata": {},
   "outputs": [
    {
     "name": "stdout",
     "output_type": "stream",
     "text": [
      "Mammal\n",
      "Mammal\n",
      "dog\n",
      "None\n"
     ]
    }
   ],
   "source": [
    "class Dog:\n",
    "    a1='Mammal'\n",
    "    a2='dog'\n",
    "    def fun(self):\n",
    "        print(\"{}\".format(self.a1))\n",
    "        print(\"{}\".format(self.a2))\n",
    "obj=Dog()\n",
    "print(\"{}\".format(obj.a1))\n",
    "print(obj.fun())"
   ]
  },
  {
   "cell_type": "code",
   "execution_count": 19,
   "id": "6e1de1f8",
   "metadata": {},
   "outputs": [
    {
     "name": "stdout",
     "output_type": "stream",
     "text": [
      "Husky is a Mammal\n",
      "Breed :Husky Color:brown\n",
      "Rodger is a Mammal\n",
      "Breed :Rodger Color:White\n"
     ]
    }
   ],
   "source": [
    "class Dog:\n",
    "    a1=\"Mammal\"\n",
    "    def __init__(self,breed,color):\n",
    "        self.breed=breed\n",
    "        self.color=color\n",
    "Husky=Dog(\"Husky\",\"brown\")\n",
    "Rodger=Dog(\"Rodger\",\"White\")\n",
    "print(\"Husky is a {}\".format(Husky.__class__.a1))\n",
    "print(\"Breed :{} Color:{}\".format(Husky.breed,Husky.color))\n",
    "print(\"Rodger is a {}\".format(Rodger.__class__.a1))\n",
    "print(\"Breed :{} Color:{}\".format(Rodger.breed,Rodger.color))"
   ]
  },
  {
   "cell_type": "code",
   "execution_count": 14,
   "id": "5bc9cdea",
   "metadata": {},
   "outputs": [
    {
     "name": "stdout",
     "output_type": "stream",
     "text": [
      "Husky is now barking\n"
     ]
    }
   ],
   "source": [
    "class Dog:\n",
    "    a1=\"Mammal\"\n",
    "    def __init__(self,name,age):\n",
    "        self.name=name\n",
    "        self.age=age\n",
    "    def bark(self):\n",
    "        return \"{} is now barking\".format(self.name)\n",
    "Husky=Dog(\"Husky\",5)\n",
    "print(Husky.bark())"
   ]
  },
  {
   "cell_type": "code",
   "execution_count": 22,
   "id": "8f471bb1",
   "metadata": {},
   "outputs": [
    {
     "name": "stdout",
     "output_type": "stream",
     "text": [
      "Bird is ready\n",
      "Penguin is ready\n",
      "Penguin\n",
      "Swim Faster\n",
      "Run Faster\n"
     ]
    }
   ],
   "source": [
    "#Inheritance\n",
    "\n",
    "class Bird:\n",
    "    def __init__(self):\n",
    "        print(\"Bird is ready\")\n",
    "    def whoisThis(self):\n",
    "        print(\"Bird\")\n",
    "    def swim(self):\n",
    "        print(\"Swim Faster\")\n",
    "        \n",
    "class Penguin(Bird):\n",
    "    def __init__(self):\n",
    "        super().__init__()\n",
    "        print(\"Penguin is ready\")\n",
    "    def whoisThis(self):\n",
    "        print(\"Penguin\")\n",
    "    def run(self):\n",
    "        print(\"Run Faster\")\n",
    "peggy=Penguin()\n",
    "peggy.whoisThis()\n",
    "peggy.swim()\n",
    "peggy.run()"
   ]
  },
  {
   "cell_type": "code",
   "execution_count": 26,
   "id": "3e1d9b9f",
   "metadata": {},
   "outputs": [
    {
     "name": "stdout",
     "output_type": "stream",
     "text": [
      "Bark\n",
      "Speak\n"
     ]
    }
   ],
   "source": [
    "class Animal:\n",
    "    def speak(self):\n",
    "        print(\"Speak\")\n",
    "class Dog(Animal):\n",
    "    def bark(self):\n",
    "        print(\"Bark\")\n",
    "obj=Dog()\n",
    "obj.bark()\n",
    "obj.speak()"
   ]
  },
  {
   "cell_type": "code",
   "execution_count": 30,
   "id": "2e416187",
   "metadata": {},
   "outputs": [
    {
     "name": "stdout",
     "output_type": "stream",
     "text": [
      "Speak\n",
      "Jump\n",
      "Bark\n"
     ]
    }
   ],
   "source": [
    "class Animal:\n",
    "    def speak(self):\n",
    "        print(\"Speak\")\n",
    "class Dog(Animal):\n",
    "    def bark(self):\n",
    "        print(\"Bark\")\n",
    "class DogChild(Dog):\n",
    "    def jump(self):\n",
    "        super().speak()\n",
    "        print(\"Jump\")\n",
    "ob1=DogChild()\n",
    "ob1.jump()\n",
    "ob1.bark()"
   ]
  },
  {
   "cell_type": "code",
   "execution_count": 41,
   "id": "ab752a5a",
   "metadata": {},
   "outputs": [
    {
     "name": "stdout",
     "output_type": "stream",
     "text": [
      "3.0\n",
      "20\n",
      "5\n"
     ]
    }
   ],
   "source": [
    "class calculation1:\n",
    "    def summation(self,a,b):\n",
    "        return a+b\n",
    "class calculation2:\n",
    "    def multiplication(self,a,b):\n",
    "        return a*b\n",
    "class calculation3(calculation1,calculation2):\n",
    "    def division(self,a,b):\n",
    "        return a/b\n",
    "o1=calculation3()\n",
    "print(o1.division(6,2))\n",
    "print(o1.multiplication(4,5))\n",
    "print(o1.summation(2,3))"
   ]
  },
  {
   "cell_type": "code",
   "execution_count": 42,
   "id": "0e050dc3",
   "metadata": {},
   "outputs": [
    {
     "name": "stdout",
     "output_type": "stream",
     "text": [
      "Selling Price:900\n",
      "Selling Price:900\n",
      "Selling Price:1000\n"
     ]
    }
   ],
   "source": [
    "#Encapsulation\n",
    "\n",
    "class Computer:\n",
    "    def __init__(self):\n",
    "        self.__maxprice=900\n",
    "    def sell(self):\n",
    "        print(\"Selling Price:{}\".format(self.__maxprice))\n",
    "    def setMaxPrice(self,price):\n",
    "        self.__maxprice=price\n",
    "c=Computer()\n",
    "c.sell()\n",
    "\n",
    "c.__maxprice=1000\n",
    "c.sell()\n",
    "\n",
    "c.setMaxPrice(1000)\n",
    "c.sell()"
   ]
  },
  {
   "cell_type": "code",
   "execution_count": 43,
   "id": "941dffc1",
   "metadata": {},
   "outputs": [
    {
     "name": "stdout",
     "output_type": "stream",
     "text": [
      "Parrot can fly\n",
      "Penguin can't fly\n"
     ]
    }
   ],
   "source": [
    "#Polymorphism\n",
    "\n",
    "class Parrot:\n",
    "    def fly(self):\n",
    "        print(\"Parrot can fly\")\n",
    "    def swim(self):\n",
    "        print(\"Parrot can't swim\")\n",
    "    \n",
    "class Penguin:\n",
    "    def fly(self):\n",
    "        print(\"Penguin can't fly\")\n",
    "    def swim(self):\n",
    "        print(\"Penguin can swim\")\n",
    "def flying_test(bird):\n",
    "    bird.fly()\n",
    "blu=Parrot()\n",
    "peggy=Penguin()\n",
    "\n",
    "flying_test(blu)\n",
    "flying_test(peggy)\n",
    "        "
   ]
  },
  {
   "cell_type": "code",
   "execution_count": 6,
   "id": "cfb4d857",
   "metadata": {},
   "outputs": [
    {
     "data": {
      "text/plain": [
       "'Black'"
      ]
     },
     "execution_count": 6,
     "metadata": {},
     "output_type": "execute_result"
    }
   ],
   "source": [
    "class Dog:\n",
    "    animal=\"Dog\"\n",
    "    def __init__(self,name):\n",
    "        self.name=name\n",
    "    def setcolor(self,color):\n",
    "        self.color=color\n",
    "    def getcolor(self):\n",
    "        return self.color\n",
    "obj=Dog(\"Husky\")\n",
    "obj.setcolor(\"Black\")\n",
    "obj.getcolor()"
   ]
  },
  {
   "cell_type": "code",
   "execution_count": 26,
   "id": "bba104ee",
   "metadata": {},
   "outputs": [
    {
     "name": "stdout",
     "output_type": "stream",
     "text": [
      "10\n",
      "Hello\n",
      "None\n",
      "docstring\n"
     ]
    }
   ],
   "source": [
    "class Person:\n",
    "    '''docstring'''\n",
    "    age=10\n",
    "    def greet(self):\n",
    "        print(\"Hello\")\n",
    "obj=Person()\n",
    "print(Person.age)\n",
    "print(obj.greet())\n",
    "print(Person.__doc__)"
   ]
  },
  {
   "cell_type": "code",
   "execution_count": 18,
   "id": "635880cf",
   "metadata": {},
   "outputs": [
    {
     "name": "stdout",
     "output_type": "stream",
     "text": [
      "Rooms: 4\n",
      "Windows: 8\n"
     ]
    }
   ],
   "source": [
    "class House:\n",
    "    def __init__(self,room,window):\n",
    "        self.room=room\n",
    "        self.window=window\n",
    "h1=House(4,8)\n",
    "print(\"Rooms:\",h1.room)\n",
    "print(\"Windows:\",h1.window)"
   ]
  },
  {
   "cell_type": "code",
   "execution_count": 24,
   "id": "38f3340e",
   "metadata": {},
   "outputs": [
    {
     "name": "stdout",
     "output_type": "stream",
     "text": [
      "Room is ready\n",
      "Square\n",
      "None\n"
     ]
    }
   ],
   "source": [
    "class House:\n",
    "    def __init__(self):\n",
    "        print(\"House is ready\")\n",
    "    def shape1(self):\n",
    "        print(\"Square\")\n",
    "class Room(House):\n",
    "    def __init__(self):\n",
    "        print(\"Room is ready\")\n",
    "    def shape(self):\n",
    "        print(\"Rectangle\")\n",
    "obj=Room()\n",
    "print(obj.shape1())"
   ]
  },
  {
   "cell_type": "code",
   "execution_count": 33,
   "id": "56939f34",
   "metadata": {},
   "outputs": [
    {
     "name": "stdout",
     "output_type": "stream",
     "text": [
      "Enter side 1 : 4\n",
      "Enter side 2 : 3\n",
      "Enter side 3 : 6\n",
      "Side 1 is 4.0\n",
      "Side 2 is 3.0\n",
      "Side 3 is 6.0\n",
      "The area of a triangle is 5.33\n"
     ]
    }
   ],
   "source": [
    "class Polygon:\n",
    "    def __init__(self,no_of_sides):\n",
    "        self.n=no_of_sides\n",
    "        self.sides=[0 for i in range(no_of_sides)]\n",
    "    def inputSides(self):\n",
    "        self.sides=[float(input(\"Enter side \"+str(i+1)+\" : \")) for i in range(self.n)]\n",
    "    def dispSides(self):\n",
    "        for i in range(self.n):\n",
    "            print(\"Side\",i+1,\"is\",self.sides[i])\n",
    "class Triangle(Polygon):\n",
    "    def __init__(self):\n",
    "        Polygon.__init__(self,3)\n",
    "    def findArea(self):\n",
    "        a,b,c=self.sides\n",
    "        s=(a+b+c)/2\n",
    "        area=(s*(s-a)*(s-b)*(s-c))**0.5\n",
    "        print(\"The area of a triangle is %0.2f\" %area)\n",
    "t=Triangle()\n",
    "t.inputSides()\n",
    "t.dispSides()\n",
    "t.findArea()"
   ]
  },
  {
   "cell_type": "code",
   "execution_count": null,
   "id": "dc657322",
   "metadata": {},
   "outputs": [],
   "source": []
  }
 ],
 "metadata": {
  "kernelspec": {
   "display_name": "Python 3",
   "language": "python",
   "name": "python3"
  },
  "language_info": {
   "codemirror_mode": {
    "name": "ipython",
    "version": 3
   },
   "file_extension": ".py",
   "mimetype": "text/x-python",
   "name": "python",
   "nbconvert_exporter": "python",
   "pygments_lexer": "ipython3",
   "version": "3.8.8"
  }
 },
 "nbformat": 4,
 "nbformat_minor": 5
}
