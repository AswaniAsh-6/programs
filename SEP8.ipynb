{
 "cells": [
  {
   "cell_type": "code",
   "execution_count": 2,
   "id": "700f0091",
   "metadata": {},
   "outputs": [
    {
     "name": "stdout",
     "output_type": "stream",
     "text": [
      "[1, 3, 5, 7, 9]\n"
     ]
    }
   ],
   "source": [
    "a1=[1,3,5,7,9]\n",
    "a2=[]\n",
    "for i in a1:\n",
    "    a2.append(i)\n",
    "print(a2)"
   ]
  },
  {
   "cell_type": "code",
   "execution_count": 26,
   "id": "dec41bdc",
   "metadata": {},
   "outputs": [
    {
     "name": "stdout",
     "output_type": "stream",
     "text": [
      "Even position:\n",
      "1 3 5 7 9 \n",
      "Odd position:\n",
      "2 4 6 8 "
     ]
    }
   ],
   "source": [
    "a3=[1,2,3,4,5,6,7,8,9]\n",
    "print(\"Even position:\")\n",
    "for i in range(0,10):\n",
    "    if i%2==0:\n",
    "        print(a3[i],end=\" \")\n",
    "print(\"\\nOdd position:\")\n",
    "for i in range(0,9):\n",
    "    if i%2!=0:\n",
    "        print(a3[i],end=\" \")"
   ]
  },
  {
   "cell_type": "code",
   "execution_count": 34,
   "id": "7f5ac398",
   "metadata": {},
   "outputs": [
    {
     "name": "stdout",
     "output_type": "stream",
     "text": [
      "Duplicate element is: 2\n"
     ]
    }
   ],
   "source": [
    "a4=[1,3,2,4,2]\n",
    "if i in a4:\n",
    "    print(\"Duplicate element is:\",i)"
   ]
  },
  {
   "cell_type": "code",
   "execution_count": 39,
   "id": "3c295e41",
   "metadata": {},
   "outputs": [
    {
     "name": "stdout",
     "output_type": "stream",
     "text": [
      "Splitting position:4\n",
      "[2, 7, 1, 9, 4, 6]\n"
     ]
    }
   ],
   "source": [
    "a5=[1,9,4,6,2,7]\n",
    "l=len(a5)\n",
    "x=int(input(\"Splitting position:\"))\n",
    "a6=[]\n",
    "for i in range(x,l):\n",
    "    a6.append(a5[i])\n",
    "for i in range(0,x):\n",
    "    a6.append(a5[i])\n",
    "print(a6)"
   ]
  },
  {
   "cell_type": "code",
   "execution_count": 40,
   "id": "9327a2eb",
   "metadata": {},
   "outputs": [
    {
     "name": "stdout",
     "output_type": "stream",
     "text": [
      "Smallest element: 10\n"
     ]
    }
   ],
   "source": [
    "a7=[14,64,85,27,10]\n",
    "print(\"Smallest element:\",min(a7))"
   ]
  },
  {
   "cell_type": "code",
   "execution_count": 41,
   "id": "7cde5502",
   "metadata": {},
   "outputs": [
    {
     "name": "stdout",
     "output_type": "stream",
     "text": [
      "Number of elemnts: 13\n"
     ]
    }
   ],
   "source": [
    "a8=[2,5,8,53,68,26,96,25,9,26,85,11,66]\n",
    "print(\"Number of elemnts:\",len(a8))"
   ]
  },
  {
   "cell_type": "code",
   "execution_count": 42,
   "id": "4bba4238",
   "metadata": {},
   "outputs": [
    {
     "name": "stdout",
     "output_type": "stream",
     "text": [
      "Largest element is: 15.7\n"
     ]
    }
   ],
   "source": [
    "a9=[4.3,7.8,1.3,9,15.7]\n",
    "print(\"Largest element is:\",max(a9))"
   ]
  },
  {
   "cell_type": "code",
   "execution_count": 54,
   "id": "cfbf27b9",
   "metadata": {},
   "outputs": [
    {
     "name": "stdout",
     "output_type": "stream",
     "text": [
      "Sorted array : [10, 14, 27, 64, 85]\n"
     ]
    }
   ],
   "source": [
    "a10=[14,64,85,27,10]\n",
    "a10.sort()\n",
    "print(\"Sorted array in ascending order :\",a10)"
   ]
  },
  {
   "cell_type": "code",
   "execution_count": 56,
   "id": "7aa8d2af",
   "metadata": {},
   "outputs": [
    {
     "name": "stdout",
     "output_type": "stream",
     "text": [
      "Sorted array in descending order : [15.7, 9, 7.8, 7, 4.3, 3.7, 1.3]\n"
     ]
    }
   ],
   "source": [
    "a11=[4.3,7.8,1.3,9,15.7,7,3.7]\n",
    "a11.sort(reverse=True)\n",
    "print(\"Sorted array in descending order :\",a11)"
   ]
  },
  {
   "cell_type": "code",
   "execution_count": 63,
   "id": "50533598",
   "metadata": {},
   "outputs": [
    {
     "name": "stdout",
     "output_type": "stream",
     "text": [
      "Enter range:9\n",
      "0 1 1 2 3 5 8 13 21 "
     ]
    }
   ],
   "source": [
    "def recu(n):\n",
    "    if n<=1:\n",
    "        return n\n",
    "    else:\n",
    "        return recu(n-1)+recu(n-2)\n",
    "r=int(input(\"Enter range:\"))\n",
    "if r<=0:\n",
    "    print(\"Enter positive number:\")\n",
    "else:\n",
    "    for i in range(r):\n",
    "        print(recu(i),end=\" \")"
   ]
  },
  {
   "cell_type": "code",
   "execution_count": 70,
   "id": "d7ec00c1",
   "metadata": {},
   "outputs": [
    {
     "name": "stdout",
     "output_type": "stream",
     "text": [
      "No of lines: 3\n"
     ]
    }
   ],
   "source": [
    "file = open(\"abc.txt\", \"r\")\n",
    "count = 0\n",
    "for i in file:\n",
    "    if i != \"\\n\":\n",
    "        count += 1\n",
    "file.close()\n",
    "print(\"No of lines:\",count)"
   ]
  },
  {
   "cell_type": "code",
   "execution_count": 73,
   "id": "d0a37238",
   "metadata": {},
   "outputs": [
    {
     "name": "stdout",
     "output_type": "stream",
     "text": [
      "hey\n"
     ]
    }
   ],
   "source": [
    "file = open(\"abc.txt\", \"w\")\n",
    "file.write(\"hey\")\n",
    "file.close()\n",
    "file = open(\"abc.txt\", \"r\")\n",
    "print(file.read())"
   ]
  },
  {
   "cell_type": "code",
   "execution_count": null,
   "id": "2adfac16",
   "metadata": {},
   "outputs": [],
   "source": [
    "class Node:\n",
    "    def "
   ]
  }
 ],
 "metadata": {
  "kernelspec": {
   "display_name": "Python 3",
   "language": "python",
   "name": "python3"
  },
  "language_info": {
   "codemirror_mode": {
    "name": "ipython",
    "version": 3
   },
   "file_extension": ".py",
   "mimetype": "text/x-python",
   "name": "python",
   "nbconvert_exporter": "python",
   "pygments_lexer": "ipython3",
   "version": "3.8.8"
  }
 },
 "nbformat": 4,
 "nbformat_minor": 5
}
